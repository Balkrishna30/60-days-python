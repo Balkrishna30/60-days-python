{
 "cells": [
  {
   "cell_type": "markdown",
   "metadata": {},
   "source": [
    "# Multiprocessing"
   ]
  },
  {
   "cell_type": "markdown",
   "metadata": {},
   "source": [
    "Multiprocessing run code in parallel. It support swapning process using an API."
   ]
  },
  {
   "cell_type": "code",
   "execution_count": 9,
   "metadata": {},
   "outputs": [
    {
     "ename": "BrokenProcessPool",
     "evalue": "A process in the process pool was terminated abruptly while the future was running or pending.",
     "output_type": "error",
     "traceback": [
      "\u001b[1;31m---------------------------------------------------------------------------\u001b[0m",
      "\u001b[1;31mBrokenProcessPool\u001b[0m                         Traceback (most recent call last)",
      "\u001b[1;32mc:\\Users\\balkrishna\\Desktop\\INTERNSHIP\\WEEK5.ipynb Cell 3\u001b[0m line \u001b[0;36m1\n\u001b[0;32m     <a href='vscode-notebook-cell:/c%3A/Users/balkrishna/Desktop/INTERNSHIP/WEEK5.ipynb#X11sZmlsZQ%3D%3D?line=12'>13</a>\u001b[0m     secs \u001b[39m=\u001b[39m [\u001b[39m5\u001b[39m, \u001b[39m4\u001b[39m, \u001b[39m3\u001b[39m, \u001b[39m2\u001b[39m, \u001b[39m1\u001b[39m]\n\u001b[0;32m     <a href='vscode-notebook-cell:/c%3A/Users/balkrishna/Desktop/INTERNSHIP/WEEK5.ipynb#X11sZmlsZQ%3D%3D?line=13'>14</a>\u001b[0m     results \u001b[39m=\u001b[39m executor\u001b[39m.\u001b[39mmap(do_something, secs)\n\u001b[1;32m---> <a href='vscode-notebook-cell:/c%3A/Users/balkrishna/Desktop/INTERNSHIP/WEEK5.ipynb#X11sZmlsZQ%3D%3D?line=15'>16</a>\u001b[0m \u001b[39mfor\u001b[39;00m result \u001b[39min\u001b[39;00m results:\n\u001b[0;32m     <a href='vscode-notebook-cell:/c%3A/Users/balkrishna/Desktop/INTERNSHIP/WEEK5.ipynb#X11sZmlsZQ%3D%3D?line=16'>17</a>\u001b[0m     \u001b[39mprint\u001b[39m(result)\n\u001b[0;32m     <a href='vscode-notebook-cell:/c%3A/Users/balkrishna/Desktop/INTERNSHIP/WEEK5.ipynb#X11sZmlsZQ%3D%3D?line=18'>19</a>\u001b[0m finish \u001b[39m=\u001b[39m time\u001b[39m.\u001b[39mperf_counter()\n",
      "File \u001b[1;32m~\\AppData\\Local\\Programs\\Python\\Python310\\lib\\concurrent\\futures\\process.py:567\u001b[0m, in \u001b[0;36m_chain_from_iterable_of_lists\u001b[1;34m(iterable)\u001b[0m\n\u001b[0;32m    561\u001b[0m \u001b[39mdef\u001b[39;00m \u001b[39m_chain_from_iterable_of_lists\u001b[39m(iterable):\n\u001b[0;32m    562\u001b[0m \u001b[39m    \u001b[39m\u001b[39m\"\"\"\u001b[39;00m\n\u001b[0;32m    563\u001b[0m \u001b[39m    Specialized implementation of itertools.chain.from_iterable.\u001b[39;00m\n\u001b[0;32m    564\u001b[0m \u001b[39m    Each item in *iterable* should be a list.  This function is\u001b[39;00m\n\u001b[0;32m    565\u001b[0m \u001b[39m    careful not to keep references to yielded objects.\u001b[39;00m\n\u001b[0;32m    566\u001b[0m \u001b[39m    \"\"\"\u001b[39;00m\n\u001b[1;32m--> 567\u001b[0m     \u001b[39mfor\u001b[39;00m element \u001b[39min\u001b[39;00m iterable:\n\u001b[0;32m    568\u001b[0m         element\u001b[39m.\u001b[39mreverse()\n\u001b[0;32m    569\u001b[0m         \u001b[39mwhile\u001b[39;00m element:\n",
      "File \u001b[1;32m~\\AppData\\Local\\Programs\\Python\\Python310\\lib\\concurrent\\futures\\_base.py:608\u001b[0m, in \u001b[0;36mExecutor.map.<locals>.result_iterator\u001b[1;34m()\u001b[0m\n\u001b[0;32m    605\u001b[0m \u001b[39mwhile\u001b[39;00m fs:\n\u001b[0;32m    606\u001b[0m     \u001b[39m# Careful not to keep a reference to the popped future\u001b[39;00m\n\u001b[0;32m    607\u001b[0m     \u001b[39mif\u001b[39;00m timeout \u001b[39mis\u001b[39;00m \u001b[39mNone\u001b[39;00m:\n\u001b[1;32m--> 608\u001b[0m         \u001b[39myield\u001b[39;00m fs\u001b[39m.\u001b[39;49mpop()\u001b[39m.\u001b[39;49mresult()\n\u001b[0;32m    609\u001b[0m     \u001b[39melse\u001b[39;00m:\n\u001b[0;32m    610\u001b[0m         \u001b[39myield\u001b[39;00m fs\u001b[39m.\u001b[39mpop()\u001b[39m.\u001b[39mresult(end_time \u001b[39m-\u001b[39m time\u001b[39m.\u001b[39mmonotonic())\n",
      "File \u001b[1;32m~\\AppData\\Local\\Programs\\Python\\Python310\\lib\\concurrent\\futures\\_base.py:438\u001b[0m, in \u001b[0;36mFuture.result\u001b[1;34m(self, timeout)\u001b[0m\n\u001b[0;32m    436\u001b[0m     \u001b[39mraise\u001b[39;00m CancelledError()\n\u001b[0;32m    437\u001b[0m \u001b[39melif\u001b[39;00m \u001b[39mself\u001b[39m\u001b[39m.\u001b[39m_state \u001b[39m==\u001b[39m FINISHED:\n\u001b[1;32m--> 438\u001b[0m     \u001b[39mreturn\u001b[39;00m \u001b[39mself\u001b[39;49m\u001b[39m.\u001b[39;49m__get_result()\n\u001b[0;32m    440\u001b[0m \u001b[39mself\u001b[39m\u001b[39m.\u001b[39m_condition\u001b[39m.\u001b[39mwait(timeout)\n\u001b[0;32m    442\u001b[0m \u001b[39mif\u001b[39;00m \u001b[39mself\u001b[39m\u001b[39m.\u001b[39m_state \u001b[39min\u001b[39;00m [CANCELLED, CANCELLED_AND_NOTIFIED]:\n",
      "File \u001b[1;32m~\\AppData\\Local\\Programs\\Python\\Python310\\lib\\concurrent\\futures\\_base.py:390\u001b[0m, in \u001b[0;36mFuture.__get_result\u001b[1;34m(self)\u001b[0m\n\u001b[0;32m    388\u001b[0m \u001b[39mif\u001b[39;00m \u001b[39mself\u001b[39m\u001b[39m.\u001b[39m_exception:\n\u001b[0;32m    389\u001b[0m     \u001b[39mtry\u001b[39;00m:\n\u001b[1;32m--> 390\u001b[0m         \u001b[39mraise\u001b[39;00m \u001b[39mself\u001b[39m\u001b[39m.\u001b[39m_exception\n\u001b[0;32m    391\u001b[0m     \u001b[39mfinally\u001b[39;00m:\n\u001b[0;32m    392\u001b[0m         \u001b[39m# Break a reference cycle with the exception in self._exception\u001b[39;00m\n\u001b[0;32m    393\u001b[0m         \u001b[39mself\u001b[39m \u001b[39m=\u001b[39m \u001b[39mNone\u001b[39;00m\n",
      "\u001b[1;31mBrokenProcessPool\u001b[0m: A process in the process pool was terminated abruptly while the future was running or pending."
     ]
    }
   ],
   "source": [
    "import concurrent.futures\n",
    "import time\n",
    "\n",
    "start = time.perf_counter()\n",
    "\n",
    "def do_something(seconds):\n",
    "    print(f'Sleeping {seconds} second(s)...')\n",
    "    time.sleep(seconds)\n",
    "    return f'Done Sleeping...{seconds}'\n",
    "\n",
    "if __name__ == '__main__':\n",
    "    with concurrent.futures.ProcessPoolExecutor() as executor:\n",
    "        secs = [5, 4, 3, 2, 1]\n",
    "        results = executor.map(do_something, secs)\n",
    "\n",
    "    for result in results:\n",
    "        print(result)\n",
    "\n",
    "    finish = time.perf_counter()\n",
    "    print(f'Finished in {round(finish-start, 2)} second(s)')"
   ]
  },
  {
   "cell_type": "code",
   "execution_count": 5,
   "metadata": {},
   "outputs": [
    {
     "name": "stdout",
     "output_type": "stream",
     "text": [
      "Finished in 0.14 second(s)\n"
     ]
    }
   ],
   "source": [
    "import concurrent.futures\n",
    "import time\n",
    "\n",
    "start = time.perf_counter()\n",
    "\n",
    "\n",
    "def do_something(seconds):\n",
    "    print(f'Sleeping {seconds} second(s)...')\n",
    "    time.sleep(seconds)\n",
    "    return f'Done Sleeping...{seconds}'\n",
    "\n",
    "\n",
    "with concurrent.futures.ProcessPoolExecutor() as executor:\n",
    "    secs = [5, 4, 3, 2, 1]\n",
    "    results = executor.map(do_something, secs)\n",
    "\n",
    "for result in results:\n",
    "    print(result)\n",
    "\n",
    "finish = time.perf_counter()\n",
    "\n",
    "print(f'Finished in {round(finish-start, 2)} second(s)')"
   ]
  },
  {
   "cell_type": "code",
   "execution_count": 8,
   "metadata": {},
   "outputs": [
    {
     "name": "stdout",
     "output_type": "stream",
     "text": [
      "Finished in 0.19650620000902563 seconds\n"
     ]
    }
   ],
   "source": [
    "import time\n",
    "import os\n",
    "import concurrent.futures\n",
    "from PIL import Image, ImageFilter\n",
    "\n",
    "img_names = [\n",
    "    r'C:\\Users\\balkrishna\\Desktop\\INTERNSHIP\\Original\\photo-1549692520-acc6669e2f0c.jpg',\n",
    "    r'C:\\Users\\balkrishna\\Desktop\\INTERNSHIP\\Original\\photo-1493976040374-85c8e12f0c0e.jpg',\n",
    "    r'C:\\Users\\balkrishna\\Desktop\\INTERNSHIP\\Original\\photo-1504198453319-5ce911bafcde.jpg',\n",
    "    r'C:\\Users\\balkrishna\\Desktop\\INTERNSHIP\\Original\\photo-1507143550189-fed454f93097.jpg',\n",
    "    r'C:\\Users\\balkrishna\\Desktop\\INTERNSHIP\\Original\\photo-1513938709626-033611b8cc03.jpg',\n",
    "    r'C:\\Users\\balkrishna\\Desktop\\INTERNSHIP\\Original\\photo-1516117172878-fd2c41f4a759.jpg',\n",
    "    r'C:\\Users\\balkrishna\\Desktop\\INTERNSHIP\\Original\\photo-1516972810927-80185027ca84.jpg',\n",
    "    r'C:\\Users\\balkrishna\\Desktop\\INTERNSHIP\\Original\\photo-1522364723953-452d3431c267.jpg',\n",
    "    r'C:\\Users\\balkrishna\\Desktop\\INTERNSHIP\\Original\\photo-1524429656589-6633a470097c.jpg',\n",
    "    r'C:\\Users\\balkrishna\\Desktop\\INTERNSHIP\\Original\\photo-1530224264768-7ff8c1789d79.jpg',\n",
    "    r'C:\\Users\\balkrishna\\Desktop\\INTERNSHIP\\Original\\photo-1532009324734-20a7a5813719.jpg',\n",
    "    r'C:\\Users\\balkrishna\\Desktop\\INTERNSHIP\\Original\\photo-1541698444083-023c97d3f4b6.jpg',\n",
    "    r'C:\\Users\\balkrishna\\Desktop\\INTERNSHIP\\Original\\photo-1564135624576-c5c88640f235.jpg',\n",
    "\n",
    "]\n",
    "\n",
    "t1 = time.perf_counter()\n",
    "\n",
    "size = (1200, 1200)\n",
    "\n",
    "\n",
    "output_folder = 'processed'\n",
    "if not os.path.exists(output_folder):\n",
    "    os.makedirs(output_folder)\n",
    "\n",
    "def process_image(img_name):\n",
    "    img = Image.open(img_name)\n",
    "\n",
    "    img = img.filter(ImageFilter.GaussianBlur(15))\n",
    "\n",
    "    img.thumbnail(size)\n",
    "    output_path = os.path.join(output_folder, os.path.basename(img_name))\n",
    "    img.save(output_path)\n",
    "    print(f'{img_name} was processed and saved to {output_path}.')\n",
    "\n",
    "def process_images():\n",
    "    with concurrent.futures.ProcessPoolExecutor() as executor:\n",
    "        executor.map(process_image, img_names)\n",
    "\n",
    "if __name__ == '__main__':\n",
    "    t1 = time.perf_counter()\n",
    "    process_images()\n",
    "    t2 = time.perf_counter()\n",
    "    print(f'Finished in {t2-t1} seconds')"
   ]
  },
  {
   "cell_type": "code",
   "execution_count": 1,
   "metadata": {},
   "outputs": [
    {
     "name": "stdout",
     "output_type": "stream",
     "text": [
      "Finished in 0.24291919998358935 seconds\n"
     ]
    }
   ],
   "source": []
  }
 ],
 "metadata": {
  "kernelspec": {
   "display_name": "Python 3",
   "language": "python",
   "name": "python3"
  },
  "language_info": {
   "codemirror_mode": {
    "name": "ipython",
    "version": 3
   },
   "file_extension": ".py",
   "mimetype": "text/x-python",
   "name": "python",
   "nbconvert_exporter": "python",
   "pygments_lexer": "ipython3",
   "version": "3.10.0"
  }
 },
 "nbformat": 4,
 "nbformat_minor": 2
}
