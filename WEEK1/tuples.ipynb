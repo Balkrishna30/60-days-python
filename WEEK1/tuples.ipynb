{
 "cells": [
  {
   "cell_type": "markdown",
   "metadata": {},
   "source": [
    "# TUPLES"
   ]
  },
  {
   "cell_type": "markdown",
   "metadata": {},
   "source": [
    "Tuples are used to store multiple items in a single variable.It is ordered but not unchangable and allow duplicate value"
   ]
  },
  {
   "cell_type": "code",
   "execution_count": 3,
   "metadata": {},
   "outputs": [
    {
     "name": "stdout",
     "output_type": "stream",
     "text": [
      "('apple', 'banana', 'cherry', 'banana')\n",
      "4\n"
     ]
    }
   ],
   "source": [
    "thistuple = (\"apple\", \"banana\", \"cherry\",'banana')\n",
    "print(thistuple)\n",
    "print(len(thistuple))"
   ]
  },
  {
   "cell_type": "code",
   "execution_count": 7,
   "metadata": {},
   "outputs": [
    {
     "name": "stdout",
     "output_type": "stream",
     "text": [
      "('apple', True, 1)\n",
      "<class 'int'>\n"
     ]
    }
   ],
   "source": [
    "#Tuple data types and constructor tuple\n",
    "thistuple = tuple((\"apple\", True, 1))\n",
    "print(thistuple)\n",
    "print(type(thistuple[2]))"
   ]
  },
  {
   "cell_type": "markdown",
   "metadata": {},
   "source": [
    "Acces data items"
   ]
  },
  {
   "cell_type": "code",
   "execution_count": 15,
   "metadata": {},
   "outputs": [
    {
     "name": "stdout",
     "output_type": "stream",
     "text": [
      "banana\n",
      "cherry\n",
      "('apple', 'banana')\n",
      "('apple',)\n",
      "yes\n"
     ]
    }
   ],
   "source": [
    "thistuple = (\"apple\", \"banana\", \"cherry\")\n",
    "print(thistuple[1])\n",
    "print(thistuple[-1])\n",
    "print(thistuple[0:2])\n",
    "print(thistuple[:1])\n",
    "#Check if item exist\n",
    "if 'apple' in thistuple:\n",
    "    print('yes')"
   ]
  },
  {
   "cell_type": "markdown",
   "metadata": {},
   "source": [
    "Update tuple by converting intp list"
   ]
  },
  {
   "cell_type": "code",
   "execution_count": 10,
   "metadata": {},
   "outputs": [
    {
     "name": "stdout",
     "output_type": "stream",
     "text": [
      "banana\n",
      "['apple', 'egg', 'cherry']\n",
      "('apple', 'egg', 'cherry')\n"
     ]
    }
   ],
   "source": [
    "thistuple = (\"apple\", \"banana\", \"cherry\")\n",
    "print(thistuple[1])\n",
    "y=list(thistuple)\n",
    "y[1]='egg'\n",
    "print(y)\n",
    "x=tuple(y)\n",
    "print(x)"
   ]
  },
  {
   "cell_type": "code",
   "execution_count": 12,
   "metadata": {},
   "outputs": [
    {
     "name": "stdout",
     "output_type": "stream",
     "text": [
      "('apple', 'banana', 'cherry', 'mango', 'litchi')\n",
      "('apple', 'cherry', 'mango', 'litchi')\n"
     ]
    }
   ],
   "source": [
    "#Add tuple to tuple\n",
    "x=(\"apple\", \"banana\", \"cherry\")\n",
    "y=(\"mango\",\"litchi\")\n",
    "x+=y\n",
    "print(x)\n",
    "#Remove item\n",
    "z=list(x)\n",
    "z.remove(z[1])\n",
    "a=tuple(z)\n",
    "print(a)\n"
   ]
  },
  {
   "cell_type": "markdown",
   "metadata": {},
   "source": [
    "Unpacking Tuple: to extract the values back into variables."
   ]
  },
  {
   "cell_type": "code",
   "execution_count": 13,
   "metadata": {},
   "outputs": [
    {
     "name": "stdout",
     "output_type": "stream",
     "text": [
      "apple\n",
      "banana\n",
      "cherry\n"
     ]
    }
   ],
   "source": [
    "fruits = (\"apple\", \"banana\", \"cherry\")\n",
    "\n",
    "(green, yellow, red) = fruits\n",
    "print(green)\n",
    "print(yellow)\n",
    "print(red)"
   ]
  },
  {
   "cell_type": "code",
   "execution_count": 16,
   "metadata": {},
   "outputs": [
    {
     "name": "stdout",
     "output_type": "stream",
     "text": [
      "apple\n",
      "['banana', 'cherry', 'strawberry']\n",
      "raspberry\n"
     ]
    }
   ],
   "source": [
    "#IF Value and variables are not equal\n",
    "fruits = (\"apple\", \"banana\", \"cherry\", \"strawberry\", \"raspberry\")\n",
    "(green, *yellow, red) = fruits\n",
    "print(green)\n",
    "print(yellow)\n",
    "print(red)"
   ]
  },
  {
   "cell_type": "markdown",
   "metadata": {},
   "source": [
    "Looping tuple"
   ]
  },
  {
   "cell_type": "code",
   "execution_count": 19,
   "metadata": {},
   "outputs": [
    {
     "name": "stdout",
     "output_type": "stream",
     "text": [
      "cherry\n"
     ]
    }
   ],
   "source": [
    "thistuple = (\"apple\", \"banana\", \"cherry\")\n",
    "for i in range(len(thistuple)):\n",
    "  i=2\n",
    "print(thistuple[i])"
   ]
  },
  {
   "cell_type": "code",
   "execution_count": 22,
   "metadata": {},
   "outputs": [
    {
     "name": "stdout",
     "output_type": "stream",
     "text": [
      "('apple', 'banana', 'cherry', 'apple', 'banana', 'cherry')\n",
      "('apple', 'banana', 'cherry', 'CHIKEN', 'buffalo', 'goat')\n"
     ]
    }
   ],
   "source": [
    "#Joining\n",
    "fruits = (\"apple\", \"banana\", \"cherry\")\n",
    "mytuple = fruits * 2\n",
    "print(mytuple)\n",
    "meat=(\"CHIKEN\", \"buffalo\",\"goat\")\n",
    "x= fruits+meat\n",
    "print(x)"
   ]
  }
 ],
 "metadata": {
  "kernelspec": {
   "display_name": "chatgpt-retrieval-plugin-CFhIcHhu-py3.10",
   "language": "python",
   "name": "python3"
  },
  "language_info": {
   "codemirror_mode": {
    "name": "ipython",
    "version": 3
   },
   "file_extension": ".py",
   "mimetype": "text/x-python",
   "name": "python",
   "nbconvert_exporter": "python",
   "pygments_lexer": "ipython3",
   "version": "3.10.0"
  },
  "orig_nbformat": 4
 },
 "nbformat": 4,
 "nbformat_minor": 2
}
