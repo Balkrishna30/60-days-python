{
 "cells": [
  {
   "cell_type": "markdown",
   "metadata": {},
   "source": [
    "# Dictionaries"
   ]
  },
  {
   "cell_type": "markdown",
   "metadata": {},
   "source": [
    "Dictionaries are used to store data values in key:value pairs.\n",
    "A dictionary is a collection which is ordered*, changeable and do not allow duplicates."
   ]
  },
  {
   "cell_type": "code",
   "execution_count": 69,
   "metadata": {},
   "outputs": [
    {
     "name": "stdout",
     "output_type": "stream",
     "text": [
      "{'Name': 'Ram', 'Address': 'Lalitpur', 'Age': 40}\n",
      "40\n"
     ]
    }
   ],
   "source": [
    "personal_info= {\n",
    "    'Name' : 'Ram',\n",
    "    'Address': 'Lalitpur',\n",
    "    'Age':20,\n",
    "    'Age':40\n",
    "}\n",
    "print(personal_info)\n",
    "print(personal_info['Age'])"
   ]
  },
  {
   "cell_type": "markdown",
   "metadata": {},
   "source": [
    "Dictionary Items:\n",
    "Dictionary items are ordered, changeable, and does not allow duplicates.\n",
    "Dictionary items are presented in key:value pairs, and can be referred to by using the key name."
   ]
  },
  {
   "cell_type": "code",
   "execution_count": 20,
   "metadata": {},
   "outputs": [
    {
     "name": "stdout",
     "output_type": "stream",
     "text": [
      "Ram\n",
      "40\n",
      "3\n"
     ]
    }
   ],
   "source": [
    "print(personal_info[('Name')])\n",
    "print(personal_info[('Age')])\n",
    "print(len(personal_info))"
   ]
  },
  {
   "cell_type": "markdown",
   "metadata": {},
   "source": [
    "Dictionary Value Data Types"
   ]
  },
  {
   "cell_type": "code",
   "execution_count": 22,
   "metadata": {},
   "outputs": [
    {
     "name": "stdout",
     "output_type": "stream",
     "text": [
      "{'Name': 'Ram', 'Address': 'Lalitpur', 'Age': 20, 'colors': ['yellow', 'Red', 'White'], 'True': True}\n",
      "<class 'list'>\n"
     ]
    }
   ],
   "source": [
    "personal_info= {\n",
    "    \"Name\" : 'Ram',\n",
    "    'Address': 'Lalitpur',\n",
    "    'Age':20,\n",
    "    'colors':['yellow','Red','White'],\n",
    "    'True' : True\n",
    "}\n",
    "print(personal_info)\n",
    "print(type(personal_info['colors']))"
   ]
  },
  {
   "cell_type": "markdown",
   "metadata": {},
   "source": [
    "Create Dictionary by using Dict constructor"
   ]
  },
  {
   "cell_type": "code",
   "execution_count": 18,
   "metadata": {},
   "outputs": [
    {
     "name": "stdout",
     "output_type": "stream",
     "text": [
      "{'Name': 'Ram', 'Address': 'Lalitpur', 'Age': 30}\n"
     ]
    }
   ],
   "source": [
    "personal_info = dict(Name='Ram',Address='Lalitpur',Age=30)\n",
    "print(personal_info)"
   ]
  },
  {
   "cell_type": "markdown",
   "metadata": {},
   "source": [
    "Get Key and Add additional item to original dictionary"
   ]
  },
  {
   "cell_type": "code",
   "execution_count": 31,
   "metadata": {},
   "outputs": [
    {
     "name": "stdout",
     "output_type": "stream",
     "text": [
      "dict_keys(['Name', 'Address', 'Age', 'colors', 'True', 'Contact'])\n",
      "{'Name': 'Ram', 'Address': 'Lalitpur', 'Age': 20, 'colors': ['yellow', 'Red', 'White'], 'True': True, 'Contact': 9844444}\n"
     ]
    },
    {
     "data": {
      "text/plain": [
       "dict_items([('Name', 'Ram'), ('Address', 'Lalitpur'), ('Age', 20), ('colors', ['yellow', 'Red', 'White']), ('True', True), ('Contact', 9844444)])"
      ]
     },
     "execution_count": 31,
     "metadata": {},
     "output_type": "execute_result"
    }
   ],
   "source": [
    "x=personal_info.keys()\n",
    "print(x)\n",
    "personal_info['Contact']=9844444\n",
    "print(personal_info)\n",
    "personal_info.values()\n",
    "personal_info.items()"
   ]
  },
  {
   "cell_type": "markdown",
   "metadata": {},
   "source": [
    "check key in dictionary"
   ]
  },
  {
   "cell_type": "code",
   "execution_count": 34,
   "metadata": {},
   "outputs": [
    {
     "name": "stdout",
     "output_type": "stream",
     "text": [
      "no\n"
     ]
    }
   ],
   "source": [
    "if 'Nameefsd' in personal_info:\n",
    "    print('yes')\n",
    "else:\n",
    "    print('no')"
   ]
  },
  {
   "cell_type": "markdown",
   "metadata": {},
   "source": [
    "Change items"
   ]
  },
  {
   "cell_type": "code",
   "execution_count": 54,
   "metadata": {},
   "outputs": [
    {
     "name": "stdout",
     "output_type": "stream",
     "text": [
      "{'Address': 'kathmandu', 'Age': 20, 'colors': ['yellow', 'Red', 'White'], 'Sex': 'male'}\n"
     ]
    }
   ],
   "source": [
    "#Add and Update\n",
    "personal_info['Sex']='male'\n",
    "personal_info['Address'] = 'kathmandu'\n",
    "print(personal_info)"
   ]
  },
  {
   "cell_type": "code",
   "execution_count": 50,
   "metadata": {},
   "outputs": [
    {
     "name": "stdout",
     "output_type": "stream",
     "text": [
      "{'Name': 'Ram', 'Address': 'kathmandu', 'Age': 20, 'colors': ['yellow', 'Red', 'White'], 'True': True}\n"
     ]
    }
   ],
   "source": [
    "#Delete\n",
    "personal_info.pop('Sex')\n",
    "print(personal_info)"
   ]
  },
  {
   "cell_type": "code",
   "execution_count": 51,
   "metadata": {},
   "outputs": [
    {
     "data": {
      "text/plain": [
       "('True', True)"
      ]
     },
     "execution_count": 51,
     "metadata": {},
     "output_type": "execute_result"
    }
   ],
   "source": [
    "personal_info.popitem()"
   ]
  },
  {
   "cell_type": "code",
   "execution_count": 63,
   "metadata": {},
   "outputs": [
    {
     "name": "stdout",
     "output_type": "stream",
     "text": [
      "{'Address': 'Lalitpur', 'Age': 40}\n"
     ]
    }
   ],
   "source": [
    "#Del Keyword to Remove specific key name\n",
    "del personal_info['Name']\n",
    "print(personal_info)"
   ]
  },
  {
   "cell_type": "markdown",
   "metadata": {},
   "source": [
    "Loop Dictionaries"
   ]
  },
  {
   "cell_type": "code",
   "execution_count": 71,
   "metadata": {},
   "outputs": [
    {
     "name": "stdout",
     "output_type": "stream",
     "text": [
      "Name\n",
      "Address\n",
      "Age\n",
      "Ram\n",
      "Lalitpur\n",
      "40\n",
      "Name Ram\n",
      "Address Lalitpur\n",
      "Age 40\n"
     ]
    }
   ],
   "source": [
    "for x in personal_info:\n",
    "    print(x)\n",
    "#print all values\n",
    "for x in personal_info:\n",
    "  print(personal_info[x])\n",
    "\n",
    "#Print items\n",
    "for x,y in personal_info.items():\n",
    "   print(x,y)"
   ]
  },
  {
   "cell_type": "markdown",
   "metadata": {},
   "source": [
    "COpy dictionary"
   ]
  },
  {
   "cell_type": "code",
   "execution_count": 72,
   "metadata": {},
   "outputs": [
    {
     "name": "stdout",
     "output_type": "stream",
     "text": [
      "{'brand': 'Ford', 'model': 'Mustang', 'year': 1964}\n"
     ]
    }
   ],
   "source": [
    "thisdict = {\n",
    "  \"brand\": \"Ford\",\n",
    "  \"model\": \"Mustang\",\n",
    "  \"year\": 1964\n",
    "}\n",
    "mydict = thisdict.copy()\n",
    "print(mydict)"
   ]
  },
  {
   "cell_type": "markdown",
   "metadata": {},
   "source": [
    "Nested Dictionaries"
   ]
  },
  {
   "cell_type": "code",
   "execution_count": 79,
   "metadata": {},
   "outputs": [
    {
     "name": "stdout",
     "output_type": "stream",
     "text": [
      "{'child1': {'name': 'john', 'year': 2004}, 'child2': {'name': 'Tobias', 'year': 2007}, 'child3': {'name': 'Linus', 'year': 2011}}\n",
      "Tobias\n"
     ]
    }
   ],
   "source": [
    "child1 = {\n",
    "  \"name\" : \"Emil\",\n",
    "  \"year\" : 2004\n",
    "}\n",
    "child2 = {\n",
    "  \"name\" : \"Tobias\",\n",
    "  \"year\" : 2007\n",
    "}\n",
    "child3 = {\n",
    "  \"name\" : \"Linus\",\n",
    "  \"year\" : 2011\n",
    "}\n",
    "\n",
    "myfamily = {\n",
    "  \"child1\" : child1,\n",
    "  \"child2\" : child2,\n",
    "  \"child3\" : child3\n",
    "}\n",
    "#print(myfamily)\n",
    "#Print Name of child 2\n",
    "myfamily[\"child1\"]['name']='john'\n",
    "print(myfamily)\n",
    "print(myfamily[\"child2\"][\"name\"])"
   ]
  },
  {
   "cell_type": "markdown",
   "metadata": {},
   "source": [
    "SetDefault:\n",
    "if exist return value otherwise return inserted value"
   ]
  },
  {
   "cell_type": "code",
   "execution_count": 78,
   "metadata": {},
   "outputs": [
    {
     "name": "stdout",
     "output_type": "stream",
     "text": [
      "Mustang\n",
      "white\n"
     ]
    }
   ],
   "source": [
    "car = {\n",
    "  \"brand\": \"Ford\",\n",
    "  \"model\": \"Mustang\",\n",
    "  \"year\": 1964\n",
    "}\n",
    "\n",
    "x = car.setdefault(\"model\", \"white\")\n",
    "y= car.setdefault('color','white')\n",
    "print(x)\n",
    "print(y)"
   ]
  }
 ],
 "metadata": {
  "kernelspec": {
   "display_name": "chatgpt-retrieval-plugin-CFhIcHhu-py3.10",
   "language": "python",
   "name": "python3"
  },
  "language_info": {
   "codemirror_mode": {
    "name": "ipython",
    "version": 3
   },
   "file_extension": ".py",
   "mimetype": "text/x-python",
   "name": "python",
   "nbconvert_exporter": "python",
   "pygments_lexer": "ipython3",
   "version": "3.10.0"
  },
  "orig_nbformat": 4
 },
 "nbformat": 4,
 "nbformat_minor": 2
}
