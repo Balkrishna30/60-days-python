{
 "cells": [
  {
   "cell_type": "markdown",
   "metadata": {},
   "source": [
    "# OOP"
   ]
  },
  {
   "cell_type": "markdown",
   "metadata": {},
   "source": [
    "Classes and Instances"
   ]
  },
  {
   "cell_type": "code",
   "execution_count": 8,
   "metadata": {},
   "outputs": [
    {
     "name": "stdout",
     "output_type": "stream",
     "text": [
      "Shyam Sth\n",
      "Ram Tiwari\n",
      "Shyam.Sth@gmail.com\n",
      "50000\n"
     ]
    }
   ],
   "source": [
    "class Employee:\n",
    "    def __init__(self,fname,lname,pay):\n",
    "        self.fname =fname\n",
    "        self.lname=lname\n",
    "        self.pay = pay\n",
    "        self.email =fname + '.' + lname + '@gmail.com'\n",
    "    def fullname(self):\n",
    "        return '{} {}'.format(self.fname,self.lname)\n",
    "emp1 = Employee('Ram', 'Tiwari',50000)\n",
    "emp2 = Employee('Shyam', 'Sth',60000)\n",
    "print(emp2.fullname())\n",
    "print(Employee.fullname(emp1))\n",
    "print(emp2.email)\n",
    "print(emp1.pay)"
   ]
  },
  {
   "cell_type": "markdown",
   "metadata": {},
   "source": [
    "Class variables"
   ]
  },
  {
   "cell_type": "code",
   "execution_count": 19,
   "metadata": {},
   "outputs": [
    {
     "name": "stdout",
     "output_type": "stream",
     "text": [
      "0\n",
      "1.05\n",
      "1.1\n",
      "1.05\n",
      "50000\n",
      "55000\n",
      "{'fname': 'Ram', 'lname': 'Tiwari', 'pay': 55000, 'email': 'Ram.Tiwari@gmail.com', 'raise_amount': 1.1}\n",
      "2\n"
     ]
    }
   ],
   "source": [
    "class Employee:\n",
    "    raise_amount =1.05 #declare class variable\n",
    "    num_employee =0 \n",
    "    def __init__(self,fname,lname,pay):\n",
    "        self.fname =fname\n",
    "        self.lname=lname\n",
    "        self.pay = pay\n",
    "        self.email =fname + '.' + lname + '@gmail.com'\n",
    "        Employee.num_employee +=1\n",
    "    def fullname(self):\n",
    "        return '{} {}'.format(self.fname,self.lname)\n",
    "    def apply_raise(self):\n",
    "        self.pay=int(self.pay*self.raise_amount) #we can use Employee.raise amount too\n",
    "print(Employee.num_employee) \n",
    "emp1 = Employee('Ram', 'Tiwari',50000)\n",
    "emp2 = Employee('Shyam', 'Sth',60000)\n",
    "emp1.raise_amount=1.10\n",
    "print(Employee.raise_amount) #print raise amount for class variables\n",
    "print(emp1.raise_amount)\n",
    "print(emp2.raise_amount)\n",
    "print(emp1.pay)  \n",
    "emp1.apply_raise()\n",
    "print(emp1.pay)  #print amount raise after calling apply raise function\n",
    "print(emp1. __dict__)\n",
    "print(Employee.num_employee) #print no of employees after instance created"
   ]
  },
  {
   "cell_type": "markdown",
   "metadata": {},
   "source": [
    "Class Methods and Static methods"
   ]
  },
  {
   "cell_type": "code",
   "execution_count": 10,
   "metadata": {},
   "outputs": [
    {
     "name": "stdout",
     "output_type": "stream",
     "text": [
      "1.1\n",
      "1.1\n",
      "1.1\n",
      "John.Doe@gmail.com\n",
      "70000\n"
     ]
    }
   ],
   "source": [
    "class Employee:\n",
    "    raise_amount =1.05 #declare class variable\n",
    "    num_employee =0 \n",
    "    def __init__(self,fname,lname,pay):\n",
    "        self.fname =fname\n",
    "        self.lname=lname\n",
    "        self.pay = pay\n",
    "        self.email =fname + '.' + lname + '@gmail.com'\n",
    "        Employee.num_employee +=1\n",
    "    def fullname(self):\n",
    "        return '{} {}'.format(self.fname,self.lname)\n",
    "    def apply_raise(self):\n",
    "        self.pay=int(self.pay*self.raise_amount) #we can use Employee.raise amount too\n",
    "    @classmethod\n",
    "    def set_raise_amt(cls,amount):\n",
    "        cls.raise_amount=amount\n",
    "    @classmethod\n",
    "    def from_string(cls,string):\n",
    "        fname,lname,pay =string.split('-')\n",
    "        return cls(fname, lname, pay)\n",
    "    \n",
    "emp1 = Employee('Ram', 'Tiwari',50000)\n",
    "emp2 = Employee('Shyam', 'Sth',60000)\n",
    "emp1.set_raise_amt(1.10)\n",
    "\n",
    "print(Employee.raise_amount) #print raise amount for class variables\n",
    "print(emp1.raise_amount)\n",
    "print(emp2.raise_amount)\n",
    "\n",
    "emp_str_1 = \"John-Doe-70000\"\n",
    "emp_str_2 = \"Rafel-Leo-80000\"\n",
    "new_emp1 = Employee.from_string(emp_str_1)\n",
    "print(new_emp1.email)  \n",
    "print(new_emp1.pay)  "
   ]
  },
  {
   "cell_type": "code",
   "execution_count": 5,
   "metadata": {},
   "outputs": [
    {
     "name": "stdout",
     "output_type": "stream",
     "text": [
      "False\n"
     ]
    }
   ],
   "source": [
    "import datetime\n",
    "class Employee:\n",
    "    raise_amount =1.05 #declare class variable\n",
    "    num_employee =0 \n",
    "    def __init__(self,fname,lname,pay):\n",
    "        self.fname =fname\n",
    "        self.lname=lname\n",
    "        self.pay = pay\n",
    "        self.email =fname + '.' + lname + '@gmail.com'\n",
    "        Employee.num_employee +=1\n",
    "    def fullname(self):\n",
    "        return '{} {}'.format(self.fname,self.lname)\n",
    "    def apply_raise(self):\n",
    "        self.pay=int(self.pay*self.raise_amount) #we can use Employee.raise amount too\n",
    "    @classmethod\n",
    "    def set_raise_amt(cls,amount):\n",
    "        cls.raise_amount=amount\n",
    "    @classmethod\n",
    "    def from_string(cls,string):\n",
    "        fname,lname,pay =string.split('-')\n",
    "        return cls(fname, lname, pay)\n",
    "    @staticmethod\n",
    "    def is_workday(day):\n",
    "        if day.weekday() == 5 or day.weekday() == 6:\n",
    "            return False\n",
    "        return True\n",
    "\n",
    "    \n",
    "emp1 = Employee('Ram', 'Tiwari',50000)\n",
    "emp2 = Employee('Shyam', 'Sth',60000)\n",
    "\n",
    "\n",
    "my_date = datetime.date(2023, 10, 15)\n",
    "print(Employee.is_workday(my_date))"
   ]
  },
  {
   "cell_type": "markdown",
   "metadata": {},
   "source": [
    "Inheritance"
   ]
  },
  {
   "cell_type": "markdown",
   "metadata": {},
   "source": [
    "Inheritance allows us to define a class that inherits all the methods and properties from another class."
   ]
  },
  {
   "cell_type": "code",
   "execution_count": 44,
   "metadata": {},
   "outputs": [
    {
     "name": "stdout",
     "output_type": "stream",
     "text": [
      "55000\n",
      "Sue Smith\n",
      "Sue.Smith@gmail.com\n",
      "---> Shyam Sth\n",
      "False\n"
     ]
    }
   ],
   "source": [
    "class Employee:\n",
    "    raise_amount =1.05 #declare class variable\n",
    "    def __init__(self,fname,lname,pay):\n",
    "        self.fname =fname\n",
    "        self.lname=lname\n",
    "        self.pay = pay\n",
    "        self.email =fname + '.' + lname + '@gmail.com'\n",
    "    def fullname(self):\n",
    "        return '{} {}'.format(self.fname,self.lname)\n",
    "    def apply_raise(self):\n",
    "        self.pay=int(self.pay*self.raise_amount)\n",
    "\n",
    "class Developer(Employee):\n",
    "    raise_amount = 1.10\n",
    "    def __init__(self, fname, lname, pay,prog_lang):\n",
    "        super().__init__(fname, lname, pay) #call the constructor of parent class\n",
    "        self.prog_lang =prog_lang\n",
    "\n",
    "class Manager(Employee):\n",
    "    def __init__(self, fname, lname, pay,employees = None):\n",
    "        super().__init__(fname, lname, pay)\n",
    "        if employees is None:\n",
    "            self.employees = []\n",
    "        else:\n",
    "            self.employees = employees\n",
    "    def add_emp(self, emp):\n",
    "        if emp not in self.employees:\n",
    "            self.employees.append(emp)\n",
    "    def remove_emp(self, emp):\n",
    "        if emp in self.employees:\n",
    "            self.employees.remove(emp)\n",
    "    def print_emp(self):\n",
    "        for emp in self.employees:\n",
    "            print('--->', emp.fullname())\n",
    "\n",
    "\n",
    "dev_1 = Developer('Ram', 'Tiwari',50000, 'Python')\n",
    "dev_2 = Developer('Shyam', 'Sth',60000, 'Java')\n",
    "\n",
    "dev_1.apply_raise()\n",
    "print(dev_1.pay)\n",
    "#print(dev_1.email)\n",
    "#print(dev_1.prog_lang)\n",
    "mgr_1 = Manager('Sue','Smith',90000,[dev_1])#dev_1 contains list of employees\n",
    "print(mgr_1.fullname())\n",
    "print(mgr_1.email)\n",
    "mgr_1.add_emp(dev_1)\n",
    "mgr_1.add_emp(dev_2)\n",
    "mgr_1.remove_emp(dev_1)\n",
    "mgr_1.print_emp()\n",
    "\n",
    "print(isinstance(dev_1, Manager))\n"
   ]
  },
  {
   "cell_type": "markdown",
   "metadata": {},
   "source": [
    "Special Methods(Magic ? dunder)"
   ]
  },
  {
   "cell_type": "markdown",
   "metadata": {},
   "source": [
    "Special methods allow us to use some built-in operations in Python with our own custom created objects"
   ]
  },
  {
   "cell_type": "code",
   "execution_count": 62,
   "metadata": {},
   "outputs": [
    {
     "name": "stdout",
     "output_type": "stream",
     "text": [
      "Ram Tiwari 50000\n",
      "Shyam Sth-Shyam.Sth@gmail.com\n",
      "110000\n",
      "9\n"
     ]
    }
   ],
   "source": [
    "class Employee:\n",
    "    raise_amount =1.05 #declare class variable\n",
    "    def __init__(self,fname,lname,pay):\n",
    "        self.fname =fname\n",
    "        self.lname=lname\n",
    "        self.pay = pay\n",
    "        self.email =fname + '.' + lname + '@gmail.com'\n",
    "    def fullname(self):\n",
    "        return '{} {}'.format(self.fname,self.lname)\n",
    "    def apply_raise(self):\n",
    "        self.pay=int(self.pay*self.raise_amount)\n",
    "    def __repr__(self) -> str:#formal or developer friendly\n",
    "        return '{} {} {}'.format(self.fname,self.lname,self.pay)\n",
    "    def __str__(self) -> str:#informal or user friendly\n",
    "        return '{}-{}'.format(self.fullname(),self.email)\n",
    "\n",
    "    def __add__(self,other):#customize the behavior of addition of class and take instance argument\n",
    "        return self.pay + other.pay\n",
    "    def __len__(self):\n",
    "        return len(self.fullname())\n",
    "\n",
    "emp1 = Employee('Ram', 'Tiwari',50000)\n",
    "emp2 = Employee('Shyam', 'Sth',60000)\n",
    "\n",
    "print(emp1.__repr__())\n",
    "print(emp2.__str__())\n",
    "\n",
    "\n",
    "print(emp1+emp2)\n",
    "print(len(emp2))"
   ]
  },
  {
   "cell_type": "markdown",
   "metadata": {},
   "source": [
    "Property Decorators"
   ]
  },
  {
   "cell_type": "markdown",
   "metadata": {},
   "source": [
    "Decorators allows a user to add new functionality to an existing object without modifying its structure."
   ]
  },
  {
   "cell_type": "code",
   "execution_count": 8,
   "metadata": {},
   "outputs": [
    {
     "name": "stdout",
     "output_type": "stream",
     "text": [
      "I am going to divide 2 and 5\n",
      "0.4\n",
      "I am going to divide 2 and 0\n",
      "Whoops! cannot divide\n"
     ]
    }
   ],
   "source": [
    "def smart_divide(func):\n",
    "    def inner(a, b):\n",
    "        print(\"I am going to divide\", a, \"and\", b)\n",
    "        if b == 0:\n",
    "            print(\"Whoops! cannot divide\")\n",
    "            return\n",
    "\n",
    "        return func(a, b)\n",
    "    return inner\n",
    "\n",
    "@smart_divide\n",
    "def divide(a, b):\n",
    "    print(a/b)\n",
    "\n",
    "divide(2,5)\n",
    "\n",
    "divide(2,0)"
   ]
  },
  {
   "cell_type": "markdown",
   "metadata": {},
   "source": [
    "Change method into attributes by using getter and setter and make them call directly and updatable."
   ]
  },
  {
   "cell_type": "code",
   "execution_count": 6,
   "metadata": {},
   "outputs": [
    {
     "name": "stdout",
     "output_type": "stream",
     "text": [
      "Ram.Basnet@gmail.com\n",
      "Ram\n",
      "Ram Basnet\n",
      "Delete Name!\n"
     ]
    }
   ],
   "source": [
    "class Employee:\n",
    "    def __init__(self,fname,lname):\n",
    "        self.fname =fname\n",
    "        self.lname=lname\n",
    "    @property\n",
    "    def email(self):\n",
    "        return '{}.{}@gmail.com'.format(self.fname,self.lname)\n",
    "    @property\n",
    "    def fullname(self):\n",
    "        return '{} {}'.format(self.fname,self.lname)\n",
    "    @fullname.setter\n",
    "    def fullname(self,name):\n",
    "        fname, lname =name.split(' ')\n",
    "        self.fname =fname\n",
    "        self.lname =lname\n",
    "\n",
    "    @fullname.deleter\n",
    "    def fullname(self):\n",
    "        print('Delete Name!')\n",
    "        self.fname = None\n",
    "        self.lname = None\n",
    "\n",
    "emp_1 =Employee('John', 'Smith')\n",
    "#emp_1.fname = 'Jim'\n",
    "emp_1.fullname = 'Ram Basnet'\n",
    "print(emp_1.email)\n",
    "print(emp_1.fname) \n",
    "# print(emp_1.email)\n",
    "print(emp_1.fullname)\n",
    "del emp_1.fullname"
   ]
  },
  {
   "cell_type": "markdown",
   "metadata": {},
   "source": [
    "Without using decorators"
   ]
  },
  {
   "cell_type": "code",
   "execution_count": 3,
   "metadata": {},
   "outputs": [
    {
     "name": "stdout",
     "output_type": "stream",
     "text": [
      "Ram\n",
      "Ram.Basnet@gmail.com\n",
      "Ram Basnet\n",
      "Delete Name!\n"
     ]
    }
   ],
   "source": [
    "class Employee:\n",
    "    def __init__(self, fname, lname):\n",
    "        self.fname = fname\n",
    "        self.lname = lname\n",
    "\n",
    "    def get_email(self):\n",
    "        return '{}.{}@gmail.com'.format(self.fname, self.lname)\n",
    "\n",
    "    def get_fullname(self):\n",
    "        return '{} {}'.format(self.fname, self.lname)\n",
    "\n",
    "    def set_fullname(self, name):\n",
    "        fname, lname = name.split(' ')\n",
    "        self.fname = fname\n",
    "        self.lname = lname\n",
    "\n",
    "    def delete_fullname(self):\n",
    "        print('Delete Name!')\n",
    "        self.fname = None\n",
    "        self.lname = None\n",
    "\n",
    "    email = property(get_email)\n",
    "    fullname = property(get_fullname, set_fullname, delete_fullname)\n",
    "\n",
    "emp_1 = Employee('John', 'Smith')\n",
    "# emp_1.fname = 'Jim'\n",
    "emp_1.fullname = 'Ram Basnet'\n",
    "emp_1.get_email()\n",
    "print(emp_1.fname)\n",
    "print(emp_1.email)\n",
    "print(emp_1.fullname)\n",
    "del emp_1.fullname\n"
   ]
  },
  {
   "cell_type": "code",
   "execution_count": 19,
   "metadata": {},
   "outputs": [
    {
     "name": "stdout",
     "output_type": "stream",
     "text": [
      "display_info ran with arguments (John, 0)\n",
      "display_info ran in: 1.00002121925354 sec\n"
     ]
    }
   ],
   "source": [
    "import logging\n",
    "import time\n",
    "\n",
    "def my_logger(orig_func):\n",
    "    logging.basicConfig(filename='{}.log'.format(orig_func.__name__), level=logging.INFO)\n",
    "\n",
    "    def wrapper(*args, **kwargs):\n",
    "        logging.info(\n",
    "            'Ran with args: {}, and kwargs:{}'.format(args, kwargs)\n",
    "        )\n",
    "        return orig_func(*args, **kwargs)\n",
    "\n",
    "    return wrapper\n",
    "\n",
    "def my_timer(orig_func):\n",
    "    def wrapper(*args, **kwargs):\n",
    "        t1 = time.time()\n",
    "        result = orig_func(*args, **kwargs)\n",
    "        t2 = time.time() - t1\n",
    "        print('{} ran in: {} sec'.format(orig_func.__name__, t2))\n",
    "        return result\n",
    "\n",
    "    return wrapper\n",
    "\n",
    "@my_logger\n",
    "@my_timer\n",
    "def display_info(name, age):\n",
    "    time.sleep(1)\n",
    "    print('display_info ran with arguments ({}, {})'.format(name, age))\n",
    "#display_info = my_timer(display_info)\n",
    "#print(display_info)\n",
    "display_info('John', 0)\n"
   ]
  },
  {
   "cell_type": "markdown",
   "metadata": {},
   "source": [
    "Polymorphism"
   ]
  },
  {
   "cell_type": "markdown",
   "metadata": {},
   "source": [
    "objects of different classes can be treated as instances of a common base class, allowing methods to be called on objects without knowing their specific class"
   ]
  },
  {
   "cell_type": "code",
   "execution_count": 7,
   "metadata": {},
   "outputs": [
    {
     "name": "stdout",
     "output_type": "stream",
     "text": [
      "Bonjur\n",
      "$$$\n"
     ]
    }
   ],
   "source": [
    "class Language:\n",
    "    def say_hello(self):\n",
    "        raise NotImplementedError(print('please use say_hello method in child class'))\n",
    "class French(Language):\n",
    "    def say_hello(self):\n",
    "        print('Bonjur')\n",
    "    pass\n",
    "class Chinese(Language):\n",
    "    def say_hello(self):\n",
    "        print('$$$')\n",
    "def intro(lang):\n",
    "    lang.say_hello()\n",
    "a = French()\n",
    "b = Chinese()\n",
    "c=Language()\n",
    "intro(a)\n",
    "intro(b)\n",
    "#intro(c)"
   ]
  },
  {
   "cell_type": "markdown",
   "metadata": {},
   "source": [
    "Encapsulation"
   ]
  },
  {
   "cell_type": "markdown",
   "metadata": {},
   "source": [
    " It refers to the concept of bundling data (attributes) and methods (functions) that operate on that data into a single unit known as a class"
   ]
  },
  {
   "cell_type": "markdown",
   "metadata": {},
   "source": [
    "data hiding and data binding"
   ]
  },
  {
   "cell_type": "code",
   "execution_count": 81,
   "metadata": {},
   "outputs": [
    {
     "name": "stdout",
     "output_type": "stream",
     "text": [
      "10\n",
      "20\n"
     ]
    },
    {
     "ename": "AttributeError",
     "evalue": "'Hello' object has no attribute '__c'",
     "output_type": "error",
     "traceback": [
      "\u001b[1;31m---------------------------------------------------------------------------\u001b[0m",
      "\u001b[1;31mAttributeError\u001b[0m                            Traceback (most recent call last)",
      "\u001b[1;32mc:\\Users\\balkrishna\\Desktop\\INTERNSHIP\\WEEK3.ipynb Cell 20\u001b[0m line \u001b[0;36m9\n\u001b[0;32m      <a href='vscode-notebook-cell:/c%3A/Users/balkrishna/Desktop/INTERNSHIP/WEEK3.ipynb#X26sZmlsZQ%3D%3D?line=6'>7</a>\u001b[0m \u001b[39mprint\u001b[39m(hello\u001b[39m.\u001b[39ma)\n\u001b[0;32m      <a href='vscode-notebook-cell:/c%3A/Users/balkrishna/Desktop/INTERNSHIP/WEEK3.ipynb#X26sZmlsZQ%3D%3D?line=7'>8</a>\u001b[0m \u001b[39mprint\u001b[39m(hello\u001b[39m.\u001b[39m_b)\n\u001b[1;32m----> <a href='vscode-notebook-cell:/c%3A/Users/balkrishna/Desktop/INTERNSHIP/WEEK3.ipynb#X26sZmlsZQ%3D%3D?line=8'>9</a>\u001b[0m \u001b[39mprint\u001b[39m(hello\u001b[39m.\u001b[39;49m__c)\n",
      "\u001b[1;31mAttributeError\u001b[0m: 'Hello' object has no attribute '__c'"
     ]
    }
   ],
   "source": [
    "class Hello:\n",
    "    def __init__(self ,name):\n",
    "        self.a = 10\n",
    "        self._b = 20 #can't be changeable\n",
    "        self.__c =30  #private\n",
    "hello = Hello('name')\n",
    "print(hello.a)\n",
    "print(hello._b)\n",
    "print(hello.__c)"
   ]
  },
  {
   "cell_type": "code",
   "execution_count": 4,
   "metadata": {},
   "outputs": [
    {
     "name": "stdout",
     "output_type": "stream",
     "text": [
      "4322\n",
      "300\n",
      "white\n"
     ]
    }
   ],
   "source": [
    "class Car:\n",
    "    def __init__(self,speed,color):\n",
    "        self.__speed = speed\n",
    "        self.__color =color\n",
    "        self.__no = 4322\n",
    "        print(self.__no)\n",
    "    def set_speed(self,value):\n",
    "        self.__speed =value\n",
    "    def get_speed(self):\n",
    "        return self.__speed\n",
    "    def set_color(self,value):\n",
    "        self.__color =value\n",
    "    def get_color(self):\n",
    "        return self.__color\n",
    "ford = Car(200, 'red')\n",
    "#honda = Car(250,'blue')\n",
    "#audi = Car(300,'black')\n",
    "ford.set_speed(300)\n",
    "print(ford.get_speed())\n",
    "ford.set_color('white')\n",
    "print(ford.get_color())"
   ]
  },
  {
   "cell_type": "markdown",
   "metadata": {},
   "source": [
    "Method overriding "
   ]
  },
  {
   "cell_type": "code",
   "execution_count": 5,
   "metadata": {},
   "outputs": [
    {
     "name": "stdout",
     "output_type": "stream",
     "text": [
      "Circle area: 78.5\n",
      "Rectangle area: 24\n"
     ]
    }
   ],
   "source": [
    "class Shape:\n",
    "    def area(self):\n",
    "        pass\n",
    "\n",
    "class Circle(Shape):\n",
    "    def __init__(self, radius):\n",
    "        self.radius = radius\n",
    "\n",
    "    def area(self):\n",
    "        return 3.14 * self.radius ** 2\n",
    "\n",
    "class Rectangle(Shape):\n",
    "    def __init__(self, width, height):\n",
    "        self.width = width\n",
    "        self.height = height\n",
    "\n",
    "    def area(self):\n",
    "        return self.width * self.height\n",
    "\n",
    "\n",
    "circle = Circle(5)\n",
    "rectangle = Rectangle(4, 6)\n",
    "\n",
    "# Call the area method on each object\n",
    "print(\"Circle area:\", circle.area())       # Calls the Circle's area method\n",
    "print(\"Rectangle area:\", rectangle.area()) # Calls the Rectangle's area method\n"
   ]
  }
 ],
 "metadata": {
  "kernelspec": {
   "display_name": "chatgpt-retrieval-plugin-CFhIcHhu-py3.10",
   "language": "python",
   "name": "python3"
  },
  "language_info": {
   "codemirror_mode": {
    "name": "ipython",
    "version": 3
   },
   "file_extension": ".py",
   "mimetype": "text/x-python",
   "name": "python",
   "nbconvert_exporter": "python",
   "pygments_lexer": "ipython3",
   "version": "3.10.0"
  }
 },
 "nbformat": 4,
 "nbformat_minor": 2
}
