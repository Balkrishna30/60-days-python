{
 "cells": [
  {
   "cell_type": "markdown",
   "metadata": {},
   "source": [
    "# Function"
   ]
  },
  {
   "cell_type": "markdown",
   "metadata": {},
   "source": [
    "Function is a block of code which executes/runs when it is called."
   ]
  },
  {
   "cell_type": "code",
   "execution_count": 3,
   "metadata": {},
   "outputs": [
    {
     "name": "stdout",
     "output_type": "stream",
     "text": [
      "Hello world\n"
     ]
    }
   ],
   "source": [
    "def myfunction():\n",
    "    print(\"Hello world\")\n",
    "myfunction()\n"
   ]
  },
  {
   "cell_type": "markdown",
   "metadata": {},
   "source": [
    "Argument"
   ]
  },
  {
   "cell_type": "code",
   "execution_count": 5,
   "metadata": {},
   "outputs": [
    {
     "name": "stdout",
     "output_type": "stream",
     "text": [
      "john\n",
      "harry\n"
     ]
    }
   ],
   "source": [
    "def myfunction(name):\n",
    "    return name\n",
    "print(myfunction('john'))\n",
    "print(myfunction('harry'))"
   ]
  },
  {
   "cell_type": "code",
   "execution_count": 9,
   "metadata": {},
   "outputs": [
    {
     "name": "stdout",
     "output_type": "stream",
     "text": [
      "The youngest child is Tobias\n"
     ]
    }
   ],
   "source": [
    "#No of arguments unknown\n",
    "def my_function(*kids):\n",
    "  print(\"The youngest child is \" + kids[1])\n",
    "my_function(\"Emil\", \"Tobias\", \"Linus\")"
   ]
  },
  {
   "cell_type": "code",
   "execution_count": 11,
   "metadata": {},
   "outputs": [
    {
     "name": "stdout",
     "output_type": "stream",
     "text": [
      "The youngest child is Tobias\n"
     ]
    }
   ],
   "source": [
    "#Keywords Argument\n",
    "def my_function(child3, child2, child1):\n",
    "  print(\"The youngest child is \" + child2)\n",
    "my_function(child1 = \"Emil\", child2 = \"Tobias\", child3 = \"Linus\")"
   ]
  },
  {
   "cell_type": "markdown",
   "metadata": {},
   "source": [
    "Arbitrary Keyword Arguments, **kwargs"
   ]
  },
  {
   "cell_type": "code",
   "execution_count": 14,
   "metadata": {},
   "outputs": [
    {
     "name": "stdout",
     "output_type": "stream",
     "text": [
      "His last name is Refsnes\n"
     ]
    }
   ],
   "source": [
    "def my_function(**kid):\n",
    "  print(\"His last name is \" + kid[\"lname\"])\n",
    "my_function(fname = \"Tobias\", lname = \"Refsnes\")"
   ]
  },
  {
   "cell_type": "code",
   "execution_count": 16,
   "metadata": {},
   "outputs": [
    {
     "name": "stdout",
     "output_type": "stream",
     "text": [
      "I am from Sweden\n",
      "I am from India\n",
      "I am from \n",
      "I am from Brazil\n"
     ]
    }
   ],
   "source": [
    "#Default Parameter Value\n",
    "def my_function(country = 'Norway'):\n",
    "  print(\"I am from \" + country)\n",
    "my_function(\"Sweden\")\n",
    "my_function(\"India\")\n",
    "my_function()\n",
    "my_function(\"Brazil\")"
   ]
  },
  {
   "cell_type": "markdown",
   "metadata": {},
   "source": [
    "Passing a list as an argument"
   ]
  },
  {
   "cell_type": "code",
   "execution_count": 17,
   "metadata": {},
   "outputs": [
    {
     "name": "stdout",
     "output_type": "stream",
     "text": [
      "banana\n",
      "apple\n",
      "orange\n"
     ]
    }
   ],
   "source": [
    "def myfunction(foods):\n",
    "    for x in foods:\n",
    "        print(x)\n",
    "fruits=['banana','apple','orange']\n",
    "myfunction(fruits)"
   ]
  },
  {
   "cell_type": "code",
   "execution_count": 18,
   "metadata": {},
   "outputs": [
    {
     "name": "stdout",
     "output_type": "stream",
     "text": [
      "9\n"
     ]
    }
   ],
   "source": [
    "#RETURN Value\n",
    "def my_function(x):\n",
    "    return x*x\n",
    "print(my_function(3))"
   ]
  },
  {
   "cell_type": "code",
   "execution_count": 19,
   "metadata": {},
   "outputs": [],
   "source": [
    "#Pass\n",
    "def myfunction():\n",
    "    pass"
   ]
  },
  {
   "cell_type": "markdown",
   "metadata": {},
   "source": [
    "Function recursion: call a function itself"
   ]
  },
  {
   "cell_type": "code",
   "execution_count": 24,
   "metadata": {},
   "outputs": [
    {
     "name": "stdout",
     "output_type": "stream",
     "text": [
      "\n",
      "\n",
      "Recursion Example Results\n",
      "1\n",
      "3\n",
      "6\n",
      "10\n",
      "15\n"
     ]
    },
    {
     "data": {
      "text/plain": [
       "15"
      ]
     },
     "execution_count": 24,
     "metadata": {},
     "output_type": "execute_result"
    }
   ],
   "source": [
    "def tri_recursion(k):\n",
    "  if(k > 0):\n",
    "    result = k + tri_recursion(k - 1)\n",
    "    print(result)\n",
    "  else:\n",
    "    result = 0\n",
    "  return result\n",
    "print(\"\\n\\nRecursion Example Results\")\n",
    "tri_recursion(5)"
   ]
  },
  {
   "cell_type": "markdown",
   "metadata": {},
   "source": [
    "# REGEX"
   ]
  },
  {
   "cell_type": "markdown",
   "metadata": {},
   "source": [
    "A RegEx, or Regular Expression, is a sequence of characters that forms a search pattern."
   ]
  },
  {
   "cell_type": "code",
   "execution_count": 1,
   "metadata": {},
   "outputs": [
    {
     "name": "stdout",
     "output_type": "stream",
     "text": [
      "['h', 'e', 'a', 'i', 'i', 'a', 'i']\n"
     ]
    }
   ],
   "source": [
    "#[] set of characters\n",
    "import re\n",
    "txt = \"The rain in Spain\"\n",
    "#Find all lower case characters alphabetically between \"a\" and \"m\":\n",
    "x = re.findall(\"[a-m]\", txt)\n",
    "print(x)"
   ]
  },
  {
   "cell_type": "code",
   "execution_count": 2,
   "metadata": {},
   "outputs": [
    {
     "name": "stdout",
     "output_type": "stream",
     "text": [
      "['5', '9']\n"
     ]
    }
   ],
   "source": [
    "#\\ special sequence\n",
    "import re\n",
    "txt = \"That will be 59 dollars\"\n",
    "#Find all digit characters:\n",
    "x = re.findall(\"\\d\", txt)\n",
    "print(x)"
   ]
  },
  {
   "cell_type": "code",
   "execution_count": 5,
   "metadata": {},
   "outputs": [
    {
     "name": "stdout",
     "output_type": "stream",
     "text": [
      "['hello']\n"
     ]
    }
   ],
   "source": [
    "# .\n",
    "import re\n",
    "txt = \"hello planet\"\n",
    "#Search for a sequence that starts with \"he\", followed by two (any) characters, and an \"o\":\n",
    "x = re.findall(\"he..o\", txt)\n",
    "print(x)"
   ]
  },
  {
   "cell_type": "code",
   "execution_count": 6,
   "metadata": {},
   "outputs": [
    {
     "name": "stdout",
     "output_type": "stream",
     "text": [
      "Yes, the string starts with 'hello'\n"
     ]
    }
   ],
   "source": [
    "# ^ starts with\n",
    "import re\n",
    "txt = \"hello planet\"\n",
    "#Check if the string starts with 'hello':\n",
    "x = re.findall(\"^hello\", txt)\n",
    "if x:\n",
    "  print(\"Yes, the string starts with 'hello'\")\n",
    "else:\n",
    "  print(\"No match\")"
   ]
  },
  {
   "cell_type": "code",
   "execution_count": 7,
   "metadata": {},
   "outputs": [
    {
     "name": "stdout",
     "output_type": "stream",
     "text": [
      "Yes, the string ends with 'planet'\n"
     ]
    }
   ],
   "source": [
    "# $ END WITH\n",
    "import re\n",
    "txt = \"hello planet\"\n",
    "#Check if the string ends with 'planet':\n",
    "x = re.findall(\"planet$\", txt)\n",
    "if x:\n",
    "  print(\"Yes, the string ends with 'planet'\")\n",
    "else:\n",
    "  print(\"No match\")"
   ]
  },
  {
   "cell_type": "code",
   "execution_count": 8,
   "metadata": {},
   "outputs": [
    {
     "name": "stdout",
     "output_type": "stream",
     "text": [
      "['hello']\n"
     ]
    }
   ],
   "source": [
    "# * 0 or more occurence\n",
    "import re\n",
    "txt = \"hello planet\"\n",
    "#Search for a sequence that starts with \"he\", followed by 0 or more  (any) characters, and an \"o\":\n",
    "x = re.findall(\"he.*o\", txt)\n",
    "print(x)"
   ]
  },
  {
   "cell_type": "code",
   "execution_count": 11,
   "metadata": {},
   "outputs": [
    {
     "name": "stdout",
     "output_type": "stream",
     "text": [
      "['hello']\n"
     ]
    }
   ],
   "source": [
    "#{} exactly specified no of characters\n",
    "import re\n",
    "txt = \"hello planet\"\n",
    "#Search for a sequence that starts with \"he\", followed excactly 2 (any) characters, and an \"o\":\n",
    "x = re.findall(\"he.{2}o\", txt)\n",
    "print(x)"
   ]
  },
  {
   "cell_type": "code",
   "execution_count": 12,
   "metadata": {},
   "outputs": [
    {
     "name": "stdout",
     "output_type": "stream",
     "text": [
      "['r', 'a', 'n', 'n', 'a', 'n']\n",
      "Yes, there is at least one match!\n"
     ]
    }
   ],
   "source": [
    "#[arn] return  match if contain any character\n",
    "import re\n",
    "txt = \"The rain in Spain\"\n",
    "#Check if the string has any a, r, or n characters:\n",
    "x = re.findall(\"[arn]\", txt)\n",
    "print(x)\n",
    "if x:\n",
    "  print(\"Yes, there is at least one match!\")\n",
    "else:\n",
    "  print(\"No match\")\n"
   ]
  },
  {
   "cell_type": "code",
   "execution_count": 17,
   "metadata": {},
   "outputs": [
    {
     "name": "stdout",
     "output_type": "stream",
     "text": [
      "['9803006302']\n",
      "Yes, there is at least one match!\n"
     ]
    }
   ],
   "source": [
    "#[0-5][0-9]\tReturns a match for any two-digit numbers from 00 and 59\n",
    "import re\n",
    "txt = \"8 times before 11:45 AM 9803006302\"\n",
    "#Check if the string has any two-digit numbers, from 00 to 59:\n",
    "x = re.findall(\"[0-9][0-9][0-9][0-9][0-9][0-9][0-9][0-9][0-9][0-9]\", txt)\n",
    "print(x)\n",
    "if x:\n",
    "  print(\"Yes, there is at least one match!\")\n",
    "else:\n",
    "  print(\"No match\")"
   ]
  },
  {
   "cell_type": "code",
   "execution_count": 14,
   "metadata": {},
   "outputs": [
    {
     "name": "stdout",
     "output_type": "stream",
     "text": [
      "['ai', 'ai']\n"
     ]
    }
   ],
   "source": [
    "#Findall Function - Print all list of members\n",
    "import re\n",
    "txt = \"The rain in Spain\"\n",
    "x = re.findall(\"ai\", txt)\n",
    "print(x)\n"
   ]
  },
  {
   "cell_type": "code",
   "execution_count": 15,
   "metadata": {},
   "outputs": [
    {
     "name": "stdout",
     "output_type": "stream",
     "text": [
      "The first white-space character is located in position: 3\n"
     ]
    }
   ],
   "source": [
    "#\\s Search for white space\n",
    "import re\n",
    "txt = \"The rain in Spain\"\n",
    "x = re.search(\"\\s\", txt)\n",
    "print(\"The first white-space character is located in position:\", x.start())"
   ]
  },
  {
   "cell_type": "code",
   "execution_count": 19,
   "metadata": {},
   "outputs": [
    {
     "name": "stdout",
     "output_type": "stream",
     "text": [
      "['The', 'rain', 'in', 'Spain']\n",
      "the split string at first occurence:\n",
      " ['The', 'rain in Spain']\n"
     ]
    }
   ],
   "source": [
    "#split -- returns a list where string has been splitn at each match\n",
    "import re\n",
    "txt = \"The rain in Spain\"\n",
    "x = re.split(\"\\s\", txt)\n",
    "print(x)\n",
    "#\n",
    "txt = \"The rain in Spain\"\n",
    "x = re.split(\"\\s\", txt, 1)\n",
    "print('the split string at first occurence:\\n', x)"
   ]
  },
  {
   "cell_type": "code",
   "execution_count": 20,
   "metadata": {},
   "outputs": [
    {
     "name": "stdout",
     "output_type": "stream",
     "text": [
      "The9rain9in9Spain\n"
     ]
    }
   ],
   "source": [
    "#Sub-- replace the matches with the text of your want\n",
    "import re\n",
    "txt = \"The rain in Spain\"\n",
    "x = re.sub(\"\\s\", \"9\", txt)\n",
    "print(x)"
   ]
  },
  {
   "cell_type": "code",
   "execution_count": 21,
   "metadata": {},
   "outputs": [
    {
     "name": "stdout",
     "output_type": "stream",
     "text": [
      "The9rain9in Spain\n"
     ]
    }
   ],
   "source": [
    "#Replace first two occurence\n",
    "import re\n",
    "txt = \"The rain in Spain\"\n",
    "x = re.sub(\"\\s\", \"9\", txt,2)\n",
    "print(x)"
   ]
  },
  {
   "cell_type": "code",
   "execution_count": 22,
   "metadata": {},
   "outputs": [
    {
     "name": "stdout",
     "output_type": "stream",
     "text": [
      "(12, 17)\n"
     ]
    }
   ],
   "source": [
    "#span -  the start - and end positions of the match\n",
    "import re\n",
    "txt = \"The rain in Spain\"\n",
    "x = re.search(r\"\\bS\\w+\", txt)\n",
    "print(x.span())"
   ]
  },
  {
   "cell_type": "code",
   "execution_count": 24,
   "metadata": {},
   "outputs": [
    {
     "name": "stdout",
     "output_type": "stream",
     "text": [
      "The rain in Spain\n"
     ]
    }
   ],
   "source": [
    "#String -- print the string passed into the function\n",
    "import re\n",
    "txt = \"The rain in Spain\"\n",
    "#x = re.search(r\"\\bS\\w+\", txt)\n",
    "print(x.string)"
   ]
  },
  {
   "cell_type": "code",
   "execution_count": 25,
   "metadata": {},
   "outputs": [
    {
     "name": "stdout",
     "output_type": "stream",
     "text": [
      "Spain\n"
     ]
    }
   ],
   "source": [
    "#grop--print part of string where there is match\n",
    "import re\n",
    "txt = \"The rain in Spain\"\n",
    "x = re.search(r\"\\bS\\w+\", txt)\n",
    "print(x.group())"
   ]
  },
  {
   "cell_type": "markdown",
   "metadata": {},
   "source": [
    "# FILE Handling"
   ]
  },
  {
   "cell_type": "markdown",
   "metadata": {},
   "source": [
    "Creating file"
   ]
  },
  {
   "cell_type": "code",
   "execution_count": 1,
   "metadata": {},
   "outputs": [],
   "source": [
    "f = open(r\"C:\\Users\\balkrishna\\Desktop\\INTERNSHIP\\File\\myfile.txt\",\"x\")"
   ]
  },
  {
   "cell_type": "markdown",
   "metadata": {},
   "source": [
    "Write into Files"
   ]
  },
  {
   "cell_type": "code",
   "execution_count": 2,
   "metadata": {},
   "outputs": [],
   "source": [
    "with open(r\"C:\\Users\\balkrishna\\Desktop\\INTERNSHIP\\File\\myfile.txt\",\"w\") as file:\n",
    "    file.write(\"This will overwrite the existing content of the file.\\n\")"
   ]
  },
  {
   "cell_type": "markdown",
   "metadata": {},
   "source": [
    "Append File"
   ]
  },
  {
   "cell_type": "code",
   "execution_count": 3,
   "metadata": {},
   "outputs": [],
   "source": [
    "with open(r\"C:\\Users\\balkrishna\\Desktop\\INTERNSHIP\\File\\myfile.txt\", \"a\") as file:\n",
    "    # Write data to the end of the file\n",
    "    file.write(\"This will be appended to the existing content.\\n\")\n",
    "    file.write(\"You can add more lines as well.\\n\")"
   ]
  },
  {
   "cell_type": "markdown",
   "metadata": {},
   "source": [
    "Read File"
   ]
  },
  {
   "cell_type": "code",
   "execution_count": 4,
   "metadata": {},
   "outputs": [
    {
     "name": "stdout",
     "output_type": "stream",
     "text": [
      "This will overwrite the existing content of the file.\n",
      "This will be appended to the existing content.\n",
      "You can add more lines as well.\n",
      "\n"
     ]
    }
   ],
   "source": [
    "with open(r\"C:\\Users\\balkrishna\\Desktop\\INTERNSHIP\\File\\myfile.txt\", \"r\") as file:\n",
    "    # Read the entire content of the file into a variable\n",
    "    file_contents = file.read()\n",
    "    # Print or process the file contents as needed\n",
    "    print(file_contents)"
   ]
  },
  {
   "cell_type": "markdown",
   "metadata": {},
   "source": [
    "Delete File content"
   ]
  },
  {
   "cell_type": "code",
   "execution_count": 9,
   "metadata": {},
   "outputs": [],
   "source": [
    "# Open the file in write mode ('w')\n",
    "with open(r\"C:\\Users\\balkrishna\\Desktop\\INTERNSHIP\\File\\myfile.txt\", \"w\") as file:\n",
    "    # This will open the file and immediately overwrite its content, effectively deleting it.\n",
    "    pass  "
   ]
  },
  {
   "cell_type": "code",
   "execution_count": 10,
   "metadata": {},
   "outputs": [
    {
     "name": "stdout",
     "output_type": "stream",
     "text": [
      "\n"
     ]
    }
   ],
   "source": [
    "with open(r\"C:\\Users\\balkrishna\\Desktop\\INTERNSHIP\\File\\myfile.txt\", \"r\") as file:\n",
    "    # Read the entire content of the file into a variable\n",
    "    file_contents = file.read()\n",
    "    # Print or process the file contents as needed\n",
    "    print(file_contents)\n",
    "    file.close()"
   ]
  },
  {
   "cell_type": "markdown",
   "metadata": {},
   "source": [
    "Delete file"
   ]
  },
  {
   "cell_type": "code",
   "execution_count": 11,
   "metadata": {},
   "outputs": [
    {
     "name": "stdout",
     "output_type": "stream",
     "text": [
      "C:\\Users\\balkrishna\\Desktop\\INTERNSHIP\\File\\myfile.txt has been deleted.\n"
     ]
    }
   ],
   "source": [
    "import os\n",
    "import shutil\n",
    "file_path = r\"C:\\Users\\balkrishna\\Desktop\\INTERNSHIP\\File\\myfile.txt\"\n",
    "# Check if the file exists before attempting to delete it\n",
    "if os.path.exists(file_path):\n",
    "    os.remove(file_path)\n",
    "    print(f\"{file_path} has been deleted.\")\n",
    "else:\n",
    "    print(f\"{file_path} does not exist.\")"
   ]
  },
  {
   "cell_type": "markdown",
   "metadata": {},
   "source": [
    "Create and write CSV File"
   ]
  },
  {
   "cell_type": "code",
   "execution_count": 11,
   "metadata": {},
   "outputs": [
    {
     "name": "stdout",
     "output_type": "stream",
     "text": [
      "C:\\Users\\balkrishna\\Desktop\\INTERNSHIP\\File\\main.csv has been created.\n"
     ]
    }
   ],
   "source": [
    "import csv\n",
    "data = [\n",
    "    [\"Name\", \"Age\", \"City\"],\n",
    "    [\"Alice\", 25, \"New York\"],\n",
    "    [\"Bob\", 30, \"Los Angeles\"],\n",
    "    [\"Charlie\", 22, \"Chicago\"],\n",
    "]\n",
    "csv_file = r\"C:\\Users\\balkrishna\\Desktop\\INTERNSHIP\\File\\main.csv\"\n",
    "with open(csv_file, mode=\"w\", newline=\"\") as file:\n",
    "    writer = csv.writer(file)\n",
    "\n",
    "    # Write the data to the CSV file\n",
    "    writer.writerows(data)\n",
    "\n",
    "print(f\"{csv_file} has been created.\")\n"
   ]
  },
  {
   "cell_type": "markdown",
   "metadata": {},
   "source": [
    "Append CSV File"
   ]
  },
  {
   "cell_type": "code",
   "execution_count": 13,
   "metadata": {},
   "outputs": [
    {
     "name": "stdout",
     "output_type": "stream",
     "text": [
      "Data has been appended to the CSV file.\n"
     ]
    }
   ],
   "source": [
    "import csv\n",
    "csv_file = r\"C:\\Users\\balkrishna\\Desktop\\INTERNSHIP\\File\\main.csv\"\n",
    "\n",
    "# Data to append to the CSV file (a list of lists)\n",
    "data_to_append = [\n",
    "    [\"John\", 35, \"London\"],\n",
    "    [\"Emily\", 28, \"New York\"],\n",
    "]\n",
    "with open(csv_file, mode=\"a\", newline=\"\") as file:\n",
    "    writer = csv.writer(file)\n",
    "    writer.writerows(data_to_append)\n",
    "print(\"Data has been appended to the CSV file.\")\n"
   ]
  },
  {
   "cell_type": "markdown",
   "metadata": {},
   "source": [
    "Read CSV"
   ]
  },
  {
   "cell_type": "code",
   "execution_count": 14,
   "metadata": {},
   "outputs": [
    {
     "name": "stdout",
     "output_type": "stream",
     "text": [
      "['Name', 'Age', 'City']\n",
      "['Alice', '25', 'New York']\n",
      "['Bob', '30', 'Los Angeles']\n",
      "['Charlie', '22', 'Chicago']\n",
      "['John', '35', 'London']\n",
      "['Emily', '28', 'New York']\n"
     ]
    }
   ],
   "source": [
    "import csv\n",
    "csv_file = r\"C:\\Users\\balkrishna\\Desktop\\INTERNSHIP\\File\\main.csv\"\n",
    "with open(csv_file, mode=\"r\", newline=\"\") as file:\n",
    "    reader = csv.reader(file)\n",
    "    for row in reader:\n",
    "        print(row)\n"
   ]
  },
  {
   "cell_type": "markdown",
   "metadata": {},
   "source": [
    "Delete Particular Row in csv"
   ]
  },
  {
   "cell_type": "code",
   "execution_count": 15,
   "metadata": {},
   "outputs": [
    {
     "name": "stdout",
     "output_type": "stream",
     "text": [
      "Row 2 has been deleted from C:\\Users\\balkrishna\\Desktop\\INTERNSHIP\\File\\main.csv.\n"
     ]
    }
   ],
   "source": [
    "import csv\n",
    "csv_file = r\"C:\\Users\\balkrishna\\Desktop\\INTERNSHIP\\File\\main.csv\"\n",
    "row_to_delete = 2  # Replace with the row number you want to delete\n",
    "updated_data = []\n",
    "with open(csv_file, mode=\"r\", newline=\"\") as file:\n",
    "    reader = csv.reader(file)\n",
    "    for row_number, row in enumerate(reader):\n",
    "        if row_number == row_to_delete:\n",
    "            continue \n",
    "        updated_data.append(row)\n",
    "with open(csv_file, mode=\"w\", newline=\"\") as file:\n",
    "    writer = csv.writer(file)\n",
    "    writer.writerows(updated_data)\n",
    "print(f\"Row {row_to_delete} has been deleted from {csv_file}.\")"
   ]
  },
  {
   "cell_type": "markdown",
   "metadata": {},
   "source": [
    "# Exception Handling"
   ]
  },
  {
   "cell_type": "markdown",
   "metadata": {},
   "source": [
    "We know that exceptions abnormally terminate the execution of a program. so it is important to handle"
   ]
  },
  {
   "cell_type": "code",
   "execution_count": 16,
   "metadata": {},
   "outputs": [
    {
     "name": "stdout",
     "output_type": "stream",
     "text": [
      "Error: Denominator cannot be 0.\n"
     ]
    }
   ],
   "source": [
    "#exception handling using try except block\n",
    "try:\n",
    "    numerator = 10\n",
    "    denominator = 0\n",
    "\n",
    "    result = numerator/denominator\n",
    "\n",
    "    print(result)\n",
    "except:\n",
    "    print(\"Error: Denominator cannot be 0.\")"
   ]
  },
  {
   "cell_type": "code",
   "execution_count": 18,
   "metadata": {},
   "outputs": [
    {
     "name": "stdout",
     "output_type": "stream",
     "text": [
      "Index Out of Bound.\n"
     ]
    }
   ],
   "source": [
    "#catching specific exception in python\n",
    "try:\n",
    "    \n",
    "    even_numbers = [2,4,6,8]\n",
    "    print(even_numbers[5])\n",
    "\n",
    "except ZeroDivisionError:\n",
    "    print(\"Denominator cannot be 0.\")\n",
    "    \n",
    "except IndexError:\n",
    "    print(\"Index Out of Bound.\")"
   ]
  },
  {
   "cell_type": "markdown",
   "metadata": {},
   "source": [
    "Python try with else clause"
   ]
  },
  {
   "cell_type": "code",
   "execution_count": 23,
   "metadata": {},
   "outputs": [
    {
     "name": "stdout",
     "output_type": "stream",
     "text": [
      "Not an even number!\n"
     ]
    }
   ],
   "source": [
    "try:\n",
    "    num = int(input(\"Enter a number: \"))\n",
    "    assert num % 2 == 0\n",
    "except:\n",
    "    print(\"Not an even number!\")\n",
    "else:\n",
    "    reciprocal = 1/num\n",
    "    print(reciprocal)"
   ]
  },
  {
   "cell_type": "markdown",
   "metadata": {},
   "source": [
    "Python try...finally"
   ]
  },
  {
   "cell_type": "code",
   "execution_count": 24,
   "metadata": {},
   "outputs": [
    {
     "name": "stdout",
     "output_type": "stream",
     "text": [
      "Error: Denominator cannot be 0.\n",
      "This is finally block.\n"
     ]
    }
   ],
   "source": [
    "try:\n",
    "    numerator = 10\n",
    "    denominator = 0\n",
    "\n",
    "    result = numerator/denominator\n",
    "\n",
    "    print(result)\n",
    "except:\n",
    "    print(\"Error: Denominator cannot be 0.\")\n",
    "    \n",
    "finally:\n",
    "    print(\"This is finally block.\")"
   ]
  },
  {
   "cell_type": "markdown",
   "metadata": {},
   "source": [
    "Python User-Defined Exception"
   ]
  },
  {
   "cell_type": "code",
   "execution_count": 37,
   "metadata": {},
   "outputs": [
    {
     "name": "stdout",
     "output_type": "stream",
     "text": [
      "Exception occurred: Invalid Age\n"
     ]
    }
   ],
   "source": [
    "class InvalidAgeException(Exception):\n",
    "    \"Raised when the input value is less than 18\"\n",
    "    pass\n",
    "number = 18\n",
    "try:\n",
    "    input_num = int(input(\"Enter a number: \"))\n",
    "    if input_num < number:\n",
    "        raise InvalidAgeException\n",
    "    else:\n",
    "        print(\"Eligible to Vote\")\n",
    "        \n",
    "except InvalidAgeException:\n",
    "    print(\"Exception occurred: Invalid Age\")"
   ]
  },
  {
   "cell_type": "code",
   "execution_count": 32,
   "metadata": {},
   "outputs": [
    {
     "ename": "Exception",
     "evalue": "divide by zero",
     "output_type": "error",
     "traceback": [
      "\u001b[1;31m---------------------------------------------------------------------------\u001b[0m",
      "\u001b[1;31mException\u001b[0m                                 Traceback (most recent call last)",
      "\u001b[1;32mc:\\Users\\balkrishna\\Desktop\\INTERNSHIP\\WEEK2.ipynb Cell 68\u001b[0m line \u001b[0;36m3\n\u001b[0;32m      <a href='vscode-notebook-cell:/c%3A/Users/balkrishna/Desktop/INTERNSHIP/WEEK2.ipynb#Y125sZmlsZQ%3D%3D?line=0'>1</a>\u001b[0m x\u001b[39m=\u001b[39m \u001b[39m11\u001b[39m\n\u001b[0;32m      <a href='vscode-notebook-cell:/c%3A/Users/balkrishna/Desktop/INTERNSHIP/WEEK2.ipynb#Y125sZmlsZQ%3D%3D?line=1'>2</a>\u001b[0m \u001b[39mif\u001b[39;00m x \u001b[39m>\u001b[39m \u001b[39m10\u001b[39m:    \n\u001b[1;32m----> <a href='vscode-notebook-cell:/c%3A/Users/balkrishna/Desktop/INTERNSHIP/WEEK2.ipynb#Y125sZmlsZQ%3D%3D?line=2'>3</a>\u001b[0m     \u001b[39mraise\u001b[39;00m \u001b[39mException\u001b[39;00m(\u001b[39m\"\u001b[39m\u001b[39mdivide by zero\u001b[39m\u001b[39m\"\u001b[39m)\n",
      "\u001b[1;31mException\u001b[0m: divide by zero"
     ]
    }
   ],
   "source": [
    "x= 11\n",
    "if x > 10:    \n",
    "    raise Exception(\"divide by zero\")"
   ]
  },
  {
   "cell_type": "markdown",
   "metadata": {},
   "source": [
    "# OS"
   ]
  },
  {
   "cell_type": "markdown",
   "metadata": {},
   "source": [
    "Python has a built-in os module with methods for interacting with the operating system, like creating files and directories, management of files and directories, input, output, environment variables, process management, etc"
   ]
  },
  {
   "cell_type": "markdown",
   "metadata": {},
   "source": [
    "os._exit()\tExits the process with the specified status\n",
    "os.abort()\tTerminates a running process immediately\n",
    "os.access()\tUses the real uid/gid to check access to a path\n",
    "os.add_dll_directory()\tAdds a path to the DLL search path\n",
    "os.chdir()\tChange the current working directory\n",
    "os.chflags()\tSets the flags of path to the numeric flags\n",
    "os.chmod()\tChanges the mode of path to the numeric mode\n",
    "os.chroot()\tChanges the root directory of the current process to a specified path\n",
    "os.close()\tCloses the specified file descriptor\n",
    "os.closerange()\tCloses all file descriptors from fd_low to fd_high\n",
    "os.confstr()\tReturns string-valued system configuration values\n",
    "os.cpu_count()\tReturns the number of CPUs present in the system\n",
    "os.device_encoding()\tReturns the encoding of the device associated with the file descriptor, if it is connected to a terminal\n",
    "os.dup()\tDuplicates a file descriptor\n",
    "os.dup2()\t Duplicates a file descriptor to a given value\n",
    "os.fchdir()\tChanges the current working directory to a directory opened by os.open()\n",
    "os.fchmod()\tChanges the mode of a file to the specified numeric mode\n",
    "os.fdatasync()\tForces write of file to disc - not forces update of metadata\n",
    "os.fdopen()\tReturns an open file object connected to a file\n",
    "os.fork()\tForks a child process\n",
    "os.fpathconf()\tReturns system configuration information relevant to an open file\n",
    "os.fsdecode()\tDecodes a file path\n",
    "os.fsencode()\tEncodes a file path\n",
    "os.fspath()\tReturns the file system representation of a path\n",
    "os.fstat()\tReturns the status of a file\n",
    "os.fstatvfs()\tReturns information about the file system of a file\n",
    "os.ftruncate()\tTruncates a file to a specified length\n",
    "os.get_blocking()\tReturns the blocking mode information of the file descriptor\n",
    "os.get_exec_path()\tReturns a list of directories, in which the system looks for named executable programs\n",
    "os.get_inheritable()\tReturns the inheritable flag of the file descriptor\n",
    "os.get_terminal_size()\tReturns the size of a terminal as a pair of columns and lines\n",
    "os.getcwd()\tReturns the current working directory\n",
    "os.getcwdb()\tReturns the current working directory in bytestring\n",
    "os.getegid()\tReturn the effective group id of the current process\n",
    "os.getenv()\tReturns the value of the environment variable key\n",
    "os.getenvb()\tReturns the value of the environment variable key, in bytes\n",
    "os.geteuid()\tReturns the effective user id of the current process\n",
    "os.getgid()\tReturns the real group id of the current process\n",
    "os.getgrouplist()\tReturns a list of all group ids for a specified user\n",
    "os.getgroups()\tReturns a list of supplementary group ids associated with the current process\n",
    "os.getloadavg()\tReturns the load average over the last 1, 5, and 15 minutes\n",
    "os.getlogin()\tReturns the name of the user logged in to the terminal\n",
    "os.getpgid()\tReturns the process group id of a specific process id\n",
    "os.getpid()\tReturns the process id of the current process\n",
    "os.getppid()\tReturns the parent process id of the current process\n",
    "os.getpriority()\tReturns the scheduling priority of a process, process group, or user\n",
    "os.getsid()\tReturns the session id of a process\n",
    "os.getuid()\tReturns the current process' real user id\n",
    "os.initgroups()\tInitializes a group access list showing all the member groups of a user plus the group id\n",
    "os.kill()\tSends a signal to the process with the specified process id\n",
    "os.killpg()\tSends a signal to the process with the specified process id\n",
    "os.lchflags()\tChanges the flags of a path to the numeric flags\n",
    "os.lchmod()\tChanges the mode of path to the numeric mode\n",
    "os.lchown()\tChanges the owner and group id of path to the numeric uid and gid\n",
    "os.listdir()\tReturns a list of the names of the entries in a directory\n",
    "os.lockf()\tApplies, tests, or removes a POSIX lock on an open file\n",
    "os.lseek()\tSets the current position of file descriptor to the defined position\n",
    "os.major()\tReturns the device major number from raw device number\n",
    "os.makedev()\tReturns a raw device number from the specified major and minor device numbers\n",
    "os.makedirs()\tCreates a directory recursively\n",
    "os.minor()\tReturns the device minor number from raw device number\n",
    "os.mkdir()\tCreates a directory (with a specified mode)"
   ]
  },
  {
   "cell_type": "code",
   "execution_count": 1,
   "metadata": {},
   "outputs": [
    {
     "name": "stdout",
     "output_type": "stream",
     "text": [
      "Does the path exists: False\n",
      "Access to read the file: False\n",
      "Access to write to file: False\n",
      "Can path be executed: False\n"
     ]
    }
   ],
   "source": [
    "import os \n",
    "# Check access with os.F_OK \n",
    "path1 = os.access(\"text.txt\", os.F_OK) \n",
    "print(\"Does the path exists:\", path1) \n",
    "# Check access with os.R_OK \n",
    "path2 = os.access(\"text.txt\", os.R_OK) \n",
    "print(\"Access to read the file:\", path2) \n",
    "# Check access with os.W_OK \n",
    "path3 = os.access(\"text.txt\", os.W_OK) \n",
    "print(\"Access to write to file:\", path3) \n",
    "# Check access with os.X_OK \n",
    "path4 = os.access(\"text.txt\", os.X_OK) \n",
    "print(\"Can path be executed:\", path4)"
   ]
  },
  {
   "cell_type": "code",
   "execution_count": 4,
   "metadata": {},
   "outputs": [
    {
     "name": "stdout",
     "output_type": "stream",
     "text": [
      "None\n"
     ]
    }
   ],
   "source": [
    "import os\n",
    "#print value of the environment variable key\n",
    "print (os.getenv(r\"C:\\Users\\balkrishna\\Desktop\\INTERNSHIP\\File\"))"
   ]
  },
  {
   "cell_type": "code",
   "execution_count": 5,
   "metadata": {},
   "outputs": [
    {
     "name": "stdout",
     "output_type": "stream",
     "text": [
      "['Condition.ipynb', 'dictionaries.ipynb', 'File', 'List..ipynb', 'Loop.ipynb', 'set.ipynb', 'string_1.py', 'tuples.ipynb', 'WEEK2.ipynb']\n"
     ]
    }
   ],
   "source": [
    "import os\n",
    "#print all entries in current directory\n",
    "print (os.listdir())"
   ]
  },
  {
   "cell_type": "markdown",
   "metadata": {},
   "source": [
    "# TIME MODULE"
   ]
  },
  {
   "cell_type": "markdown",
   "metadata": {},
   "source": [
    "handle the time related task like reading the current time, formatting time, sleep"
   ]
  },
  {
   "cell_type": "code",
   "execution_count": 20,
   "metadata": {},
   "outputs": [
    {
     "name": "stdout",
     "output_type": "stream",
     "text": [
      "Seconds since epoch = 1697006648.8699744\n"
     ]
    }
   ],
   "source": [
    "# import the time module\n",
    "import time\n",
    "seconds = time.time()\n",
    "print(\"Seconds since epoch =\", seconds)\t"
   ]
  },
  {
   "cell_type": "code",
   "execution_count": 23,
   "metadata": {},
   "outputs": [
    {
     "name": "stdout",
     "output_type": "stream",
     "text": [
      "Local time: Wed Oct 11 12:29:09 2023\n"
     ]
    }
   ],
   "source": [
    "#ctime--convert the time in seconds since the epoch to a readable format\n",
    "import time\n",
    "# seconds passed since epoch\n",
    "seconds = 1697006648.8699744\n",
    "local_time = time.ctime(seconds)\n",
    "print(\"Local time:\", local_time)"
   ]
  },
  {
   "cell_type": "markdown",
   "metadata": {},
   "source": [
    "Sleep --- delays the execution of the program with specified time period"
   ]
  },
  {
   "cell_type": "code",
   "execution_count": 24,
   "metadata": {},
   "outputs": [
    {
     "name": "stdout",
     "output_type": "stream",
     "text": [
      "print immediately\n",
      "print after sleep\n"
     ]
    }
   ],
   "source": [
    "import time\n",
    "print(\"print immediately\")\n",
    "time.sleep(5)\n",
    "print(\"print after sleep\")"
   ]
  },
  {
   "cell_type": "markdown",
   "metadata": {},
   "source": [
    "Local time\n"
   ]
  },
  {
   "cell_type": "code",
   "execution_count": 26,
   "metadata": {},
   "outputs": [
    {
     "name": "stdout",
     "output_type": "stream",
     "text": [
      "result: time.struct_time(tm_year=2023, tm_mon=10, tm_mday=11, tm_hour=12, tm_min=29, tm_sec=8, tm_wday=2, tm_yday=284, tm_isdst=0)\n",
      "\n",
      "year: 2023\n",
      "tm_hour: 12\n"
     ]
    }
   ],
   "source": [
    "import time\n",
    "result = time.localtime(1697006648.8699744)\n",
    "print(\"result:\", result)\n",
    "print(\"\\nyear:\", result.tm_year)\n",
    "print(\"tm_hour:\", result.tm_hour)"
   ]
  },
  {
   "cell_type": "markdown",
   "metadata": {},
   "source": [
    "gmtime---return in utc format\n"
   ]
  },
  {
   "cell_type": "code",
   "execution_count": 28,
   "metadata": {},
   "outputs": [
    {
     "name": "stdout",
     "output_type": "stream",
     "text": [
      "result time.struct_time(tm_year=2023, tm_mon=10, tm_mday=11, tm_hour=6, tm_min=44, tm_sec=8, tm_wday=2, tm_yday=284, tm_isdst=0)\n",
      "\n",
      "year: 2023\n",
      "tm_hour: 6\n"
     ]
    }
   ],
   "source": [
    "import time\n",
    "result=time.gmtime(1697006648.8699744)\n",
    "print('result',result)\n",
    "\n",
    "print(\"\\nyear:\", result.tm_year)\n",
    "print(\"tm_hour:\", result.tm_hour)"
   ]
  },
  {
   "cell_type": "markdown",
   "metadata": {},
   "source": [
    "Asc time --- returns a readable format of struict time"
   ]
  },
  {
   "cell_type": "code",
   "execution_count": 30,
   "metadata": {},
   "outputs": [
    {
     "name": "stdout",
     "output_type": "stream",
     "text": [
      "Result: Fri Oct 11 06:44:04 2023\n"
     ]
    }
   ],
   "source": [
    "import time\n",
    "struct_time = (2023, 10, 11, 6, 44, 4, 4, 362, 0)\n",
    "result = time.asctime(struct_time)\n",
    "print(\"Result:\",result)"
   ]
  },
  {
   "cell_type": "markdown",
   "metadata": {},
   "source": [
    "strftime -- takes struct time and returns a string representing it based on the format code used"
   ]
  },
  {
   "cell_type": "code",
   "execution_count": 31,
   "metadata": {},
   "outputs": [
    {
     "name": "stdout",
     "output_type": "stream",
     "text": [
      "10/11/2023, 13:53:27\n"
     ]
    }
   ],
   "source": [
    "import time\n",
    "named_tuple = time.localtime() # get struct_time\n",
    "time_string = time.strftime(\"%m/%d/%Y, %H:%M:%S\", named_tuple)\n",
    "print(time_string)"
   ]
  },
  {
   "cell_type": "markdown",
   "metadata": {},
   "source": [
    " strptime()--- parses a string representing time and returns struct_time"
   ]
  },
  {
   "cell_type": "code",
   "execution_count": 33,
   "metadata": {},
   "outputs": [
    {
     "name": "stdout",
     "output_type": "stream",
     "text": [
      "time.struct_time(tm_year=2023, tm_mon=10, tm_mday=11, tm_hour=0, tm_min=0, tm_sec=0, tm_wday=2, tm_yday=284, tm_isdst=-1)\n"
     ]
    }
   ],
   "source": [
    "import time\n",
    "time_string = \"11 October, 2023\"\n",
    "result = time.strptime(time_string, \"%d %B, %Y\")\n",
    "print(result)"
   ]
  },
  {
   "cell_type": "markdown",
   "metadata": {},
   "source": [
    "Get currrent time\n"
   ]
  },
  {
   "cell_type": "code",
   "execution_count": 37,
   "metadata": {},
   "outputs": [
    {
     "name": "stdout",
     "output_type": "stream",
     "text": [
      "14:03:35\n"
     ]
    }
   ],
   "source": [
    "import time\n",
    "t = time.localtime()\n",
    "current_time = time.strftime(\"%H:%M:%S\", t)\n",
    "print(current_time)"
   ]
  },
  {
   "cell_type": "markdown",
   "metadata": {},
   "source": [
    "# Math Module"
   ]
  },
  {
   "cell_type": "markdown",
   "metadata": {},
   "source": [
    "math.acos()\tReturns the arc cosine of a number\n",
    "math.acosh()\tReturns the inverse hyperbolic cosine of a number\n",
    "math.asin()\tReturns the arc sine of a number\n",
    "math.asinh()\tReturns the inverse hyperbolic sine of a number\n",
    "math.atan()\tReturns the arc tangent of a number in radians\n",
    "math.atan2()\tReturns the arc tangent of y/x in radians\n",
    "math.atanh()\tReturns the inverse hyperbolic tangent of a number\n",
    "math.ceil()\tRounds a number up to the nearest integer\n",
    "math.comb()\tReturns the number of ways to choose k items from n items without repetition and order\n",
    "math.cos()\tReturns the cosine of a number\n",
    "math.cosh()\tReturns the hyperbolic cosine of a number\n",
    "math.degrees()\tConverts an angle from radians to degrees\n",
    "math.dist()\tReturns the Euclidean distance between two points (p and q), where p and q are the coordinates of that point\n",
    "math.exp()\tReturns E raised to the power of x\n",
    "math.fabs()\tReturns the absolute value of a number\n",
    "math.factorial()\tReturns the factorial of a number\n",
    "math.floor()\tRounds a number down to the nearest integer\n",
    "math.fmod()\tReturns the remainder of x/y\n",
    "math.fsum()\tReturns the sum of all items in any iterable (tuples, arrays, lists, etc.)\n",
    "math.gcd()\tReturns the greatest common divisor of two integers\n",
    "math.isclose()\tChecks whether two values are close to each other, or not\n",
    "math.isfinite()\tChecks whether a number is finite or not\n",
    "math.isinf()\tChecks whether a number is infinite or not\n",
    "math.isnan()\tChecks whether a value is NaN (not a number) or not\n",
    "math.isqrt()\tRounds a square root number downwards to the nearest integer\n",
    "math.lgamma()\tReturns the log gamma value of x\n",
    "math.log()\tReturns the natural logarithm of a number, or the logarithm of number to base\n",
    "math.log10()\tReturns the base-10 logarithm of x\n",
    "math.log1p()\tReturns the natural logarithm of 1+x\n",
    "math.log2()\tReturns the base-2 logarithm of x\n",
    "math.pow()\tReturns the value of x to the power of y\n",
    "math.prod()\tReturns the product of all the elements in an iterable\n",
    "math.radians()\tConverts a degree value into radians\n",
    "math.remainder()\tReturns the closest value that can make numerator completely divisible by the denominator\n",
    "math.sin()\tReturns the sine of a number\n",
    "math.sinh()\tReturns the hyperbolic sine of a number\n",
    "math.sqrt()\tReturns the square root of a number\n",
    "math.tan()\tReturns the tangent of a number\n",
    "math.tanh()\tReturns the hyperbolic tangent of a number\n",
    "math.trunc()\tReturns the truncated integer parts of a number"
   ]
  },
  {
   "cell_type": "code",
   "execution_count": 41,
   "metadata": {},
   "outputs": [
    {
     "name": "stdout",
     "output_type": "stream",
     "text": [
      "2.644120761058629\n",
      "4.718578581151767\n",
      "0.4667653390472964\n",
      "1.5707963267948966\n"
     ]
    }
   ],
   "source": [
    "import math\n",
    "# Return the inverse hyperbolic sine of numbers\n",
    "print(math.asinh(7))\n",
    "print(math.asinh(56))\n",
    "print(math.asin(0.45))\n",
    "print(math.asin(1))"
   ]
  },
  {
   "cell_type": "code",
   "execution_count": 42,
   "metadata": {},
   "outputs": [
    {
     "name": "stdout",
     "output_type": "stream",
     "text": [
      "True\n",
      "True\n",
      "True\n",
      "False\n",
      "False\n",
      "False\n",
      "False\n",
      "False\n",
      "True\n"
     ]
    }
   ],
   "source": [
    "import math\n",
    "# Check whether the values are finite or not\n",
    "print(math.isfinite(2000))\n",
    "print(math.isfinite(-45.34))\n",
    "print(math.isfinite(+45.34))\n",
    "print(math.isfinite(math.inf))\n",
    "print(math.isfinite(float(\"nan\")))\n",
    "print(math.isfinite(float(\"inf\")))\n",
    "print(math.isfinite(float(\"-inf\")))\n",
    "print(math.isfinite(-math.inf))\n",
    "print(math.isfinite(0.0))"
   ]
  },
  {
   "cell_type": "code",
   "execution_count": 43,
   "metadata": {},
   "outputs": [
    {
     "name": "stdout",
     "output_type": "stream",
     "text": [
      "1.0000066849139877\n",
      "0.6931471805599453\n",
      "0.0\n"
     ]
    }
   ],
   "source": [
    "import math\n",
    "# Return the natural logarithm of different numbers\n",
    "print(math.log(2.7183))\n",
    "print(math.log(2))\n",
    "print(math.log(1))"
   ]
  },
  {
   "cell_type": "code",
   "execution_count": 45,
   "metadata": {},
   "outputs": [
    {
     "name": "stdout",
     "output_type": "stream",
     "text": [
      "24\n"
     ]
    }
   ],
   "source": [
    "import math\n",
    "sequence=(2,3,4)\n",
    "print(math.prod(sequence))"
   ]
  },
  {
   "cell_type": "code",
   "execution_count": 46,
   "metadata": {},
   "outputs": [
    {
     "name": "stdout",
     "output_type": "stream",
     "text": [
      "8.0\n"
     ]
    }
   ],
   "source": [
    "import math\n",
    "x=2\n",
    "y=3\n",
    "print(math.pow(x,y))\n"
   ]
  },
  {
   "cell_type": "code",
   "execution_count": 49,
   "metadata": {},
   "outputs": [
    {
     "name": "stdout",
     "output_type": "stream",
     "text": [
      "3.1622776601683795\n",
      "3.4641016151377544\n",
      "8.94427190999916\n",
      "10.0\n",
      "3\n",
      "3\n",
      "8\n",
      "10\n"
     ]
    }
   ],
   "source": [
    "import math\n",
    "# Print the square root of different numbers\n",
    "print (math.sqrt(10))\n",
    "print (math.sqrt (12))\n",
    "print (math.sqrt (80))\n",
    "print (math.sqrt (100))\n",
    "# Round square root downward to the nearest integer\n",
    "print (math.isqrt(10))\n",
    "print (math.isqrt (12))\n",
    "print (math.isqrt (80))\n",
    "print (math.isqrt (100))"
   ]
  },
  {
   "cell_type": "code",
   "execution_count": 50,
   "metadata": {},
   "outputs": [
    {
     "name": "stdout",
     "output_type": "stream",
     "text": [
      "3.141592653589793\n",
      "1.7458528507699278\n",
      "-0.3490658503988659\n"
     ]
    }
   ],
   "source": [
    "import math\n",
    "# Convert different degrees into radians\n",
    "print(math.radians(180))\n",
    "print(math.radians(100.03))\n",
    "print(math.radians(-20))"
   ]
  }
 ],
 "metadata": {
  "kernelspec": {
   "display_name": "chatgpt-retrieval-plugin-CFhIcHhu-py3.10",
   "language": "python",
   "name": "python3"
  },
  "language_info": {
   "codemirror_mode": {
    "name": "ipython",
    "version": 3
   },
   "file_extension": ".py",
   "mimetype": "text/x-python",
   "name": "python",
   "nbconvert_exporter": "python",
   "pygments_lexer": "ipython3",
   "version": "3.10.0"
  }
 },
 "nbformat": 4,
 "nbformat_minor": 2
}
